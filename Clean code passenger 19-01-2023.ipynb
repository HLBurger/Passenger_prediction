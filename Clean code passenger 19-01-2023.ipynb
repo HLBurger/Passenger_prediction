{
 "cells":[
  {
   "cell_type":"markdown",
   "source":[
    "## **Passenger prediction with XGBRegressor** \n",
    "~ Hendrico Burger "
   ],
   "attachments":{
    
   },
   "metadata":{
    "datalore":{
     "node_id":"9LC9jfUCjQjoQbJfmJrh0a",
     "type":"MD",
     "hide_input_from_viewers":true,
     "hide_output_from_viewers":true,
     "report_properties":{
      
     }
    }
   }
  },
  {
   "cell_type":"code",
   "source":[
    "import numpy as np \n",
    "import pandas as pd\n",
    "import scipy.stats as ss\n",
    "import statsmodels.stats.stattools as stats\n",
    "import statsmodels.formula.api as sm\n",
    "import statsmodels.api as sma\n",
    "import statsmodels.tsa.api as smt\n",
    "import statsmodels as stat\n",
    "import matplotlib.pyplot as plt \n",
    "import seaborn as sns\n",
    "\n",
    "from statsmodels.tsa.api import SimpleExpSmoothing\n",
    "from statsmodels.tsa.api import Holt\n",
    "from statsmodels.tsa.api import ExponentialSmoothing\n",
    "\n",
    "import datetime\n",
    "import hvplot.pandas \n",
    "from scipy.stats import norm\n",
    "import optuna\n",
    "\n",
    "from workalendar.europe import NetherlandsWithSchoolHolidays as NL"
   ],
   "execution_count":8,
   "outputs":[
    
   ],
   "metadata":{
    "datalore":{
     "node_id":"R6JMlBLx2YQF62gthph36P",
     "type":"CODE",
     "hide_input_from_viewers":true,
     "hide_output_from_viewers":true,
     "report_properties":{
      
     }
    }
   }
  },
  {
   "cell_type":"code",
   "source":[
    "pip install \"optuna\""
   ],
   "execution_count":7,
   "outputs":[
    {
     "name":"stdout",
     "text":[
      "Collecting optuna\r\n",
      "  Downloading optuna-3.0.5-py3-none-any.whl (348 kB)\r\n",
      "\u001b[?25l\r\r     |█                               | 10 kB 23.4 MB\/s eta 0:00:01\r     |█▉                              | 20 kB 26.2 MB\/s eta 0:00:01\r     |██▉                             | 30 kB 30.0 MB\/s eta 0:00:01\r     |███▊                            | 40 kB 28.9 MB\/s eta 0:00:01\r     |████▊                           | 51 kB 23.8 MB\/s eta 0:00:01\r     |█████▋                          | 61 kB 26.0 MB\/s eta 0:00:01\r     |██████▋                         | 71 kB 27.3 MB\/s eta 0:00:01\r     |███████▌                        | 81 kB 28.6 MB\/s eta 0:00:01\r     |████████▌                       | 92 kB 29.1 MB\/s eta 0:00:01\r     |█████████▍                      | 102 kB 29.8 MB\/s eta 0:00:01\r     |██████████▍                     | 112 kB 29.8 MB\/s eta 0:00:01\r     |███████████▎                    | 122 kB 29.8 MB\/s eta 0:00:01\r     |████████████▏                   | 133 kB 29.8 MB\/s eta 0:00:01\r     |█████████████▏                  | 143 kB 29.8 MB\/s eta 0:00:01\r     |██████████████                  | 153 kB 29.8 MB\/s eta 0:00:01\r     |███████████████                 | 163 kB 29.8 MB\/s eta 0:00:01\r     |████████████████                | 174 kB 29.8 MB\/s eta 0:00:01\r     |█████████████████               | 184 kB 29.8 MB\/s eta 0:00:01\r     |█████████████████▉              | 194 kB 29.8 MB\/s eta 0:00:01\r     |██████████████████▉             | 204 kB 29.8 MB\/s eta 0:00:01\r     |███████████████████▊            | 215 kB 29.8 MB\/s eta 0:00:01\r     |████████████████████▊           | 225 kB 29.8 MB\/s eta 0:00:01\r     |█████████████████████▋          | 235 kB 29.8 MB\/s eta 0:00:01\r     |██████████████████████▋         | 245 kB 29.8 MB\/s eta 0:00:01\r     |███████████████████████▌        | 256 kB 29.8 MB\/s eta 0:00:01\r     |████████████████████████▍       | 266 kB 29.8 MB\/s eta 0:00:01\r     |█████████████████████████▍      | 276 kB 29.8 MB\/s eta 0:00:01\r     |██████████████████████████▎     | 286 kB 29.8 MB\/s eta 0:00:01\r     |███████████████████████████▎    | 296 kB 29.8 MB\/s eta 0:00:01\r     |████████████████████████████▏   | 307 kB 29.8 MB\/s eta 0:00:01\r     |█████████████████████████████▏  | 317 kB 29.8 MB\/s eta 0:00:01\r     |██████████████████████████████  | 327 kB 29.8 MB\/s eta 0:00:01\r     |███████████████████████████████ | 337 kB 29.8 MB\/s eta 0:00:01\r     |████████████████████████████████| 348 kB 29.8 MB\/s eta 0:00:01\r     |████████████████████████████████| 348 kB 29.8 MB\/s            \r\n",
      "\u001b[?25hRequirement already satisfied: PyYAML in \/opt\/python\/envs\/default\/lib\/python3.8\/site-packages (from optuna) (6.0)\r\n",
      "Collecting cmaes>=0.8.2\r\n",
      "  Downloading cmaes-0.9.1-py3-none-any.whl (21 kB)\r\n",
      "Requirement already satisfied: packaging>=20.0 in \/opt\/python\/envs\/default\/lib\/python3.8\/site-packages (from optuna) (22.0)\r\n",
      "Requirement already satisfied: numpy in \/opt\/python\/envs\/default\/lib\/python3.8\/site-packages (from optuna) (1.21.5)\r\n",
      "Requirement already satisfied: sqlalchemy>=1.3.0 in \/opt\/python\/envs\/default\/lib\/python3.8\/site-packages (from optuna) (1.4.26)\r\n",
      "Collecting importlib-metadata<5.0.0\r\n",
      "  Downloading importlib_metadata-4.13.0-py3-none-any.whl (23 kB)\r\n",
      "Requirement already satisfied: scipy<1.9.0,>=1.7.0 in \/opt\/python\/envs\/default\/lib\/python3.8\/site-packages (from optuna) (1.7.3)\r\n",
      "Collecting alembic>=1.5.0\r\n",
      "  Downloading alembic-1.9.1-py3-none-any.whl (210 kB)\r\n",
      "\u001b[?25l\r\r     |█▋                              | 10 kB 21.5 MB\/s eta 0:00:01\r     |███▏                            | 20 kB 30.0 MB\/s eta 0:00:01\r     |████▊                           | 30 kB 37.3 MB\/s eta 0:00:01\r     |██████▎                         | 40 kB 41.6 MB\/s eta 0:00:01\r     |███████▉                        | 51 kB 39.4 MB\/s eta 0:00:01\r     |█████████▍                      | 61 kB 41.1 MB\/s eta 0:00:01\r     |███████████                     | 71 kB 42.0 MB\/s eta 0:00:01\r     |████████████▌                   | 81 kB 44.4 MB\/s eta 0:00:01\r     |██████████████                  | 92 kB 44.6 MB\/s eta 0:00:01\r     |███████████████▋                | 102 kB 43.8 MB\/s eta 0:00:01\r     |█████████████████▏              | 112 kB 43.8 MB\/s eta 0:00:01\r     |██████████████████▊             | 122 kB 43.8 MB\/s eta 0:00:01\r     |████████████████████▎           | 133 kB 43.8 MB\/s eta 0:00:01\r     |█████████████████████▉          | 143 kB 43.8 MB\/s eta 0:00:01\r     |███████████████████████▍        | 153 kB 43.8 MB\/s eta 0:00:01\r     |█████████████████████████       | 163 kB 43.8 MB\/s eta 0:00:01\r     |██████████████████████████▌     | 174 kB 43.8 MB\/s eta 0:00:01\r     |████████████████████████████    | 184 kB 43.8 MB\/s eta 0:00:01\r     |█████████████████████████████▋  | 194 kB 43.8 MB\/s eta 0:00:01\r     |███████████████████████████████▏| 204 kB 43.8 MB\/s eta 0:00:01\r     |████████████████████████████████| 210 kB 43.8 MB\/s            \r\n",
      "\u001b[?25hRequirement already satisfied: tqdm in \/opt\/python\/envs\/default\/lib\/python3.8\/site-packages (from optuna) (4.64.1)\r\n",
      "Collecting colorlog\r\n",
      "  Downloading colorlog-6.7.0-py2.py3-none-any.whl (11 kB)\r\n",
      "Collecting cliff\r\n",
      "  Downloading cliff-4.1.0-py3-none-any.whl (81 kB)\r\n",
      "\u001b[?25l\r\r     |████                            | 10 kB 25.3 MB\/s eta 0:00:01\r     |████████                        | 20 kB 32.8 MB\/s eta 0:00:01\r     |████████████▏                   | 30 kB 40.2 MB\/s eta 0:00:01\r     |████████████████▏               | 40 kB 44.7 MB\/s eta 0:00:01\r     |████████████████████▏           | 51 kB 47.4 MB\/s eta 0:00:01\r     |████████████████████████▎       | 61 kB 51.0 MB\/s eta 0:00:01\r     |████████████████████████████▎   | 71 kB 52.5 MB\/s eta 0:00:01\r     |████████████████████████████████| 81 kB 8.7 MB\/s             \r\n",
      "\u001b[?25hCollecting Mako\r\n",
      "  Downloading Mako-1.2.4-py3-none-any.whl (78 kB)\r\n",
      "\u001b[?25l\r\r     |████▏                           | 10 kB 30.5 MB\/s eta 0:00:01\r     |████████▎                       | 20 kB 38.3 MB\/s eta 0:00:01\r     |████████████▌                   | 30 kB 46.2 MB\/s eta 0:00:01\r     |████████████████▋               | 40 kB 40.1 MB\/s eta 0:00:01\r     |████████████████████▉           | 51 kB 42.8 MB\/s eta 0:00:01\r     |█████████████████████████       | 61 kB 46.5 MB\/s eta 0:00:01\r     |█████████████████████████████▏  | 71 kB 48.3 MB\/s eta 0:00:01\r     |████████████████████████████████| 78 kB 7.5 MB\/s             \r\n",
      "\u001b[?25hRequirement already satisfied: importlib-resources in \/opt\/python\/envs\/default\/lib\/python3.8\/site-packages (from alembic>=1.5.0->optuna) (5.10.1)\r\n",
      "Requirement already satisfied: zipp>=0.5 in \/opt\/python\/envs\/default\/lib\/python3.8\/site-packages (from importlib-metadata<5.0.0->optuna) (3.11.0)\r\n",
      "Requirement already satisfied: greenlet!=0.4.17 in \/opt\/python\/envs\/default\/lib\/python3.8\/site-packages (from sqlalchemy>=1.3.0->optuna) (2.0.1)\r\n",
      "Collecting stevedore>=2.0.1\r\n",
      "  Downloading stevedore-4.1.1-py3-none-any.whl (50 kB)\r\n",
      "\u001b[?25l\r\r     |██████▌                         | 10 kB 33.6 MB\/s eta 0:00:01\r     |█████████████                   | 20 kB 40.7 MB\/s eta 0:00:01\r     |███████████████████▋            | 30 kB 47.9 MB\/s eta 0:00:01\r     |██████████████████████████▏     | 40 kB 48.9 MB\/s eta 0:00:01\r     |████████████████████████████████| 50 kB 12.1 MB\/s            \r\n",
      "\u001b[?25hCollecting PrettyTable>=0.7.2\r\n",
      "  Downloading prettytable-3.6.0-py3-none-any.whl (27 kB)\r\n",
      "Collecting autopage>=0.4.0\r\n",
      "  Downloading autopage-0.5.1-py3-none-any.whl (29 kB)\r\n",
      "Collecting cmd2>=1.0.0\r\n",
      "  Downloading cmd2-2.4.2-py3-none-any.whl (147 kB)\r\n",
      "\u001b[?25l\r\r     |██▎                             | 10 kB 32.4 MB\/s eta 0:00:01\r     |████▌                           | 20 kB 39.1 MB\/s eta 0:00:01\r     |██████▊                         | 30 kB 46.2 MB\/s eta 0:00:01\r     |█████████                       | 40 kB 50.5 MB\/s eta 0:00:01\r     |███████████▏                    | 51 kB 53.2 MB\/s eta 0:00:01\r     |█████████████▍                  | 61 kB 56.0 MB\/s eta 0:00:01\r     |███████████████▋                | 71 kB 56.7 MB\/s eta 0:00:01\r     |█████████████████▉              | 81 kB 57.1 MB\/s eta 0:00:01\r     |████████████████████            | 92 kB 57.6 MB\/s eta 0:00:01\r     |██████████████████████▎         | 102 kB 58.1 MB\/s eta 0:00:01\r     |████████████████████████▌       | 112 kB 58.1 MB\/s eta 0:00:01\r     |██████████████████████████▊     | 122 kB 58.1 MB\/s eta 0:00:01\r     |█████████████████████████████   | 133 kB 58.1 MB\/s eta 0:00:01\r     |███████████████████████████████▏| 143 kB 58.1 MB\/s eta 0:00:01\r     |████████████████████████████████| 147 kB 58.1 MB\/s            \r\n",
      "\u001b[?25hRequirement already satisfied: attrs>=16.3.0 in \/opt\/python\/envs\/default\/lib\/python3.8\/site-packages (from cmd2>=1.0.0->cliff->optuna) (22.1.0)\r\n",
      "Requirement already satisfied: wcwidth>=0.1.7 in \/opt\/python\/envs\/default\/lib\/python3.8\/site-packages (from cmd2>=1.0.0->cliff->optuna) (0.2.5)\r\n",
      "Collecting pyperclip>=1.6\r\n",
      "  Downloading pyperclip-1.8.2.tar.gz (20 kB)\r\n",
      "  Preparing metadata (setup.py) ... \u001b[?25l-\b \bdone\r\n",
      "\u001b[?25hCollecting pbr!=2.1.0,>=2.0.0\r\n",
      "  Downloading pbr-5.11.0-py2.py3-none-any.whl (112 kB)\r\n",
      "\u001b[?25l\r\r     |███                             | 10 kB 32.9 MB\/s eta 0:00:01\r     |█████▉                          | 20 kB 39.3 MB\/s eta 0:00:01\r     |████████▊                       | 30 kB 45.9 MB\/s eta 0:00:01\r     |███████████▋                    | 40 kB 49.2 MB\/s eta 0:00:01\r     |██████████████▌                 | 51 kB 51.3 MB\/s eta 0:00:01\r     |█████████████████▌              | 61 kB 54.3 MB\/s eta 0:00:01\r     |████████████████████▍           | 71 kB 56.3 MB\/s eta 0:00:01\r     |███████████████████████▎        | 81 kB 58.9 MB\/s eta 0:00:01\r     |██████████████████████████▏     | 92 kB 60.2 MB\/s eta 0:00:01\r     |█████████████████████████████   | 102 kB 61.1 MB\/s eta 0:00:01\r     |████████████████████████████████| 112 kB 61.1 MB\/s            \r\n",
      "\u001b[?25hRequirement already satisfied: MarkupSafe>=0.9.2 in \/opt\/python\/envs\/default\/lib\/python3.8\/site-packages (from Mako->alembic>=1.5.0->optuna) (2.1.1)\r\n",
      "Building wheels for collected packages: pyperclip\r\n",
      "  Building wheel for pyperclip (setup.py) ... \u001b[?25l-\b \b\\\b \b|\b \bdone\r\n",
      "\u001b[?25h  Created wheel for pyperclip: filename=pyperclip-1.8.2-py3-none-any.whl size=11124 sha256=d38c0fd30d49410c3581b8236ba329aa1d80860db2462328f9ce7abc54da2047\r\n",
      "  Stored in directory: \/home\/datalore\/.cache\/pip\/wheels\/7f\/1a\/65\/84ff8c386bec21fca6d220ea1f5498a0367883a78dd5ba6122\r\n",
      "Successfully built pyperclip\r\n",
      "Installing collected packages: pyperclip, pbr, stevedore, PrettyTable, Mako, importlib-metadata, cmd2, autopage, colorlog, cmaes, cliff, alembic, optuna\r\n",
      "  Attempting uninstall: importlib-metadata\r\n",
      "    Found existing installation: importlib-metadata 5.1.0\r\n",
      "    Uninstalling importlib-metadata-5.1.0:\r\n",
      "      Successfully uninstalled importlib-metadata-5.1.0\r\n",
      "Successfully installed Mako-1.2.4 PrettyTable-3.6.0 alembic-1.9.1 autopage-0.5.1 cliff-4.1.0 cmaes-0.9.1 cmd2-2.4.2 colorlog-6.7.0 importlib-metadata-4.13.0 optuna-3.0.5 pbr-5.11.0 pyperclip-1.8.2 stevedore-4.1.1\r\n",
      "\u001b[33mWARNING: You are using pip version 21.3.1; however, version 22.3.1 is available.\r\n",
      "You should consider upgrading via the '\/opt\/python\/envs\/default\/bin\/python -m pip install --upgrade pip' command.\u001b[0m\r\n",
      "Note: you may need to restart the kernel to use updated packages.\n"
     ],
     "output_type":"stream"
    }
   ],
   "metadata":{
    "datalore":{
     "node_id":"QmcjEYKrEkuUr8PYD2pqMu",
     "type":"CODE",
     "hide_input_from_viewers":true,
     "hide_output_from_viewers":true,
     "report_properties":{
      
     }
    }
   }
  },
  {
   "cell_type":"code",
   "source":[
    "df = pd.read_csv(r'cleandata.csv')\n",
    "\n",
    "# get datetime dates and redefine a new dataframe with variable of interest.\n",
    "ts = pd.to_datetime(df['Geplande datum\/tijd'], errors='coerce')\n",
    "red_df = df[['Pay pax', 'Maatschappij', 'BookedPayPax']]\n",
    "red_df['timestamp'] = ts\n",
    "red_df"
   ],
   "execution_count":4,
   "outputs":[
    {
     "name":"stderr",
     "text":[
      "\/opt\/python\/envs\/default\/lib\/python3.8\/site-packages\/IPython\/core\/interactiveshell.py:3457: DtypeWarning: Columns (2,9,11,12,15,18,21) have mixed types.Specify dtype option on import or set low_memory=False.\n",
      "  exec(code_obj, self.user_global_ns, self.user_ns)\n",
      "<ipython-input-4-93f515ceb154>:6: SettingWithCopyWarning: \n",
      "A value is trying to be set on a copy of a slice from a DataFrame.\n",
      "Try using .loc[row_indexer,col_indexer] = value instead\n",
      "\n",
      "See the caveats in the documentation: https:\/\/pandas.pydata.org\/pandas-docs\/stable\/user_guide\/indexing.html#returning-a-view-versus-a-copy\n",
      "  red_df['timestamp'] = ts\n"
     ],
     "output_type":"stream"
    },
    {
     "data":{
      "text\/html":[
       "<div>\n",
       "<style scoped>\n",
       "    .dataframe tbody tr th:only-of-type {\n",
       "        vertical-align: middle;\n",
       "    }\n",
       "\n",
       "    .dataframe tbody tr th {\n",
       "        vertical-align: top;\n",
       "    }\n",
       "\n",
       "    .dataframe thead th {\n",
       "        text-align: right;\n",
       "    }\n",
       "<\/style>\n",
       "<table border=\"1\" class=\"dataframe\">\n",
       "  <thead>\n",
       "    <tr style=\"text-align: right;\">\n",
       "      <th><\/th>\n",
       "      <th>Pay pax<\/th>\n",
       "      <th>Maatschappij<\/th>\n",
       "      <th>BookedPayPax<\/th>\n",
       "      <th>timestamp<\/th>\n",
       "    <\/tr>\n",
       "  <\/thead>\n",
       "  <tbody>\n",
       "    <tr>\n",
       "      <th>0<\/th>\n",
       "      <td>NaN<\/td>\n",
       "      <td>NaN<\/td>\n",
       "      <td>NaN<\/td>\n",
       "      <td>2021-08-31 08:50:00<\/td>\n",
       "    <\/tr>\n",
       "    <tr>\n",
       "      <th>1<\/th>\n",
       "      <td>NaN<\/td>\n",
       "      <td>NaN<\/td>\n",
       "      <td>NaN<\/td>\n",
       "      <td>2021-08-31 07:00:00<\/td>\n",
       "    <\/tr>\n",
       "    <tr>\n",
       "      <th>2<\/th>\n",
       "      <td>NaN<\/td>\n",
       "      <td>NaN<\/td>\n",
       "      <td>NaN<\/td>\n",
       "      <td>2021-08-31 07:14:00<\/td>\n",
       "    <\/tr>\n",
       "    <tr>\n",
       "      <th>3<\/th>\n",
       "      <td>NaN<\/td>\n",
       "      <td>NaN<\/td>\n",
       "      <td>NaN<\/td>\n",
       "      <td>2021-08-31 06:15:00<\/td>\n",
       "    <\/tr>\n",
       "    <tr>\n",
       "      <th>4<\/th>\n",
       "      <td>NaN<\/td>\n",
       "      <td>NaN<\/td>\n",
       "      <td>NaN<\/td>\n",
       "      <td>2021-08-31 07:10:00<\/td>\n",
       "    <\/tr>\n",
       "    <tr>\n",
       "      <th>...<\/th>\n",
       "      <td>...<\/td>\n",
       "      <td>...<\/td>\n",
       "      <td>...<\/td>\n",
       "      <td>...<\/td>\n",
       "    <\/tr>\n",
       "    <tr>\n",
       "      <th>857156<\/th>\n",
       "      <td>NaN<\/td>\n",
       "      <td>NaN<\/td>\n",
       "      <td>NaN<\/td>\n",
       "      <td>2021-03-24 10:10:00<\/td>\n",
       "    <\/tr>\n",
       "    <tr>\n",
       "      <th>857157<\/th>\n",
       "      <td>NaN<\/td>\n",
       "      <td>NaN<\/td>\n",
       "      <td>4.0<\/td>\n",
       "      <td>2021-06-11 05:30:00<\/td>\n",
       "    <\/tr>\n",
       "    <tr>\n",
       "      <th>857158<\/th>\n",
       "      <td>NaN<\/td>\n",
       "      <td>NaN<\/td>\n",
       "      <td>NaN<\/td>\n",
       "      <td>2021-03-18 20:00:00<\/td>\n",
       "    <\/tr>\n",
       "    <tr>\n",
       "      <th>857159<\/th>\n",
       "      <td>NaN<\/td>\n",
       "      <td>Air Hamburg Private Jets<\/td>\n",
       "      <td>2.0<\/td>\n",
       "      <td>2020-05-28 13:36:00<\/td>\n",
       "    <\/tr>\n",
       "    <tr>\n",
       "      <th>857160<\/th>\n",
       "      <td>NaN<\/td>\n",
       "      <td>NaN<\/td>\n",
       "      <td>NaN<\/td>\n",
       "      <td>2021-08-31 09:00:00<\/td>\n",
       "    <\/tr>\n",
       "  <\/tbody>\n",
       "<\/table>\n",
       "<p>857161 rows × 4 columns<\/p>\n",
       "<\/div>"
      ]
     },
     "metadata":{
      
     },
     "output_type":"display_data"
    }
   ],
   "metadata":{
    "datalore":{
     "node_id":"DFuysm0xnttjQ5euN326Su",
     "type":"CODE",
     "hide_input_from_viewers":true,
     "hide_output_from_viewers":true,
     "report_properties":{
      
     }
    }
   }
  },
  {
   "cell_type":"markdown",
   "source":[
    "## Feature engineering \n",
    "\n",
    "Performed on the \"data\" datbase"
   ],
   "attachments":{
    
   },
   "metadata":{
    "datalore":{
     "node_id":"PkFyKe0ENqJvE53bKnDvok",
     "type":"MD",
     "hide_input_from_viewers":true,
     "hide_output_from_viewers":true,
     "report_properties":{
      
     }
    }
   }
  },
  {
   "cell_type":"code",
   "source":[
    "data = (red_df.set_index('timestamp')\n",
    "        .resample('D').sum()\n",
    "        ['2014':'2019']\n",
    "       )\n",
    "\n",
    "# Function to find the number of the week in a month\n",
    "def WeekNumber(date_value):\n",
    "    week = date_value.isocalendar()[1] - date_value.replace(day=1).isocalendar()[1] + 1\n",
    "    return date_value.isocalendar()[1] if week < 0 else week\n",
    "\n",
    "# Rename for use in the regression\n",
    "data = data.rename(columns={\"Pay pax\": \"Pay_pax\"})\n",
    "\n",
    "data['Days_of_year'] = data.index.dayofyear\n",
    "data['Month'] = data.index.month\n",
    "data['Week'] = data.index.week\n",
    "data['Week_Month'] = [WeekNumber(i) for i in data.index]\n",
    "data['Day_Number'] = data.index.day\n",
    "\n",
    "cats = [ 'Monday', 'Tuesday', 'Wednesday', 'Thursday', 'Friday', 'Saturday', 'Sunday']\n",
    "data['Day_Name'] = data.index.day_name()\n",
    "\n",
    "data['Time'] = [i for i in range(len(data))]\n",
    "data['Time2'] = data['Time']**2\n",
    "\n",
    "data = data.fillna(0)\n",
    "\n",
    "#Holidays\n",
    "calendar = NL(region='south', carnival_instead_of_spring=True)\n",
    "all_holidays = []\n",
    "for i in list(data.index.year.unique())[2:]:\n",
    "    for j in calendar.holidays(i):\n",
    "        all_holidays.append(j[0])\n",
    "\n",
    "\n",
    "data['Holidays'] = [1 if i in all_holidays else 0 for i in data.index]\n",
    "\n",
    "\n",
    "#Rate of change\n",
    "data['rate_of_change_L14'] = data[\"Pay_pax\"].pct_change().shift(14)\n",
    "\n",
    "#Lags\n",
    "\n",
    "data['Pay_pax_L1'] = data['Pay_pax'].shift(1)\n",
    "data['Pay_pax_L2'] = data['Pay_pax'].shift(2)\n",
    "data['Pay_pax_L3'] = data['Pay_pax'].shift(3)\n",
    "data[\"RM_10\"] = data[\"Pay_pax\"].rolling(10).mean()\n",
    "data[\"SD_10\"] = data[\"Pay_pax\"].rolling(10).std()\n",
    "\n",
    "\n",
    "# One data point is negative (to be retreated)\n",
    "data[data['Pay_pax'] < 1] = 1\n",
    "data"
   ],
   "execution_count":9,
   "outputs":[
    {
     "name":"stderr",
     "text":[
      "<ipython-input-9-c8522dbdd4ce>:16: FutureWarning: weekofyear and week have been deprecated, please use DatetimeIndex.isocalendar().week instead, which returns a Series.  To exactly reproduce the behavior of week and weekofyear and return an Index, you may call pd.Int64Index(idx.isocalendar().week)\n",
      "  data['Week'] = data.index.week\n"
     ],
     "output_type":"stream"
    },
    {
     "data":{
      "text\/html":[
       "<div>\n",
       "<style scoped>\n",
       "    .dataframe tbody tr th:only-of-type {\n",
       "        vertical-align: middle;\n",
       "    }\n",
       "\n",
       "    .dataframe tbody tr th {\n",
       "        vertical-align: top;\n",
       "    }\n",
       "\n",
       "    .dataframe thead th {\n",
       "        text-align: right;\n",
       "    }\n",
       "<\/style>\n",
       "<table border=\"1\" class=\"dataframe\">\n",
       "  <thead>\n",
       "    <tr style=\"text-align: right;\">\n",
       "      <th><\/th>\n",
       "      <th>Pay_pax<\/th>\n",
       "      <th>Days_of_year<\/th>\n",
       "      <th>Month<\/th>\n",
       "      <th>Week<\/th>\n",
       "      <th>Week_Month<\/th>\n",
       "      <th>Day_Number<\/th>\n",
       "      <th>Day_Name<\/th>\n",
       "      <th>Time<\/th>\n",
       "      <th>Time2<\/th>\n",
       "      <th>Holidays<\/th>\n",
       "      <th>rate_of_change_L14<\/th>\n",
       "      <th>Pay_pax_L1<\/th>\n",
       "      <th>Pay_pax_L2<\/th>\n",
       "      <th>Pay_pax_L3<\/th>\n",
       "      <th>RM_10<\/th>\n",
       "      <th>SD_10<\/th>\n",
       "    <\/tr>\n",
       "    <tr>\n",
       "      <th>timestamp<\/th>\n",
       "      <th><\/th>\n",
       "      <th><\/th>\n",
       "      <th><\/th>\n",
       "      <th><\/th>\n",
       "      <th><\/th>\n",
       "      <th><\/th>\n",
       "      <th><\/th>\n",
       "      <th><\/th>\n",
       "      <th><\/th>\n",
       "      <th><\/th>\n",
       "      <th><\/th>\n",
       "      <th><\/th>\n",
       "      <th><\/th>\n",
       "      <th><\/th>\n",
       "      <th><\/th>\n",
       "      <th><\/th>\n",
       "    <\/tr>\n",
       "  <\/thead>\n",
       "  <tbody>\n",
       "    <tr>\n",
       "      <th>2014-01-01<\/th>\n",
       "      <td>3167.0<\/td>\n",
       "      <td>1<\/td>\n",
       "      <td>1<\/td>\n",
       "      <td>1<\/td>\n",
       "      <td>1<\/td>\n",
       "      <td>1<\/td>\n",
       "      <td>Wednesday<\/td>\n",
       "      <td>0<\/td>\n",
       "      <td>0<\/td>\n",
       "      <td>0<\/td>\n",
       "      <td>NaN<\/td>\n",
       "      <td>NaN<\/td>\n",
       "      <td>NaN<\/td>\n",
       "      <td>NaN<\/td>\n",
       "      <td>NaN<\/td>\n",
       "      <td>NaN<\/td>\n",
       "    <\/tr>\n",
       "    <tr>\n",
       "      <th>2014-01-02<\/th>\n",
       "      <td>3361.0<\/td>\n",
       "      <td>2<\/td>\n",
       "      <td>1<\/td>\n",
       "      <td>1<\/td>\n",
       "      <td>1<\/td>\n",
       "      <td>2<\/td>\n",
       "      <td>Thursday<\/td>\n",
       "      <td>1<\/td>\n",
       "      <td>1<\/td>\n",
       "      <td>0<\/td>\n",
       "      <td>NaN<\/td>\n",
       "      <td>3167.0<\/td>\n",
       "      <td>NaN<\/td>\n",
       "      <td>NaN<\/td>\n",
       "      <td>NaN<\/td>\n",
       "      <td>NaN<\/td>\n",
       "    <\/tr>\n",
       "    <tr>\n",
       "      <th>2014-01-03<\/th>\n",
       "      <td>4828.0<\/td>\n",
       "      <td>3<\/td>\n",
       "      <td>1<\/td>\n",
       "      <td>1<\/td>\n",
       "      <td>1<\/td>\n",
       "      <td>3<\/td>\n",
       "      <td>Friday<\/td>\n",
       "      <td>2<\/td>\n",
       "      <td>4<\/td>\n",
       "      <td>0<\/td>\n",
       "      <td>NaN<\/td>\n",
       "      <td>3361.0<\/td>\n",
       "      <td>3167.0<\/td>\n",
       "      <td>NaN<\/td>\n",
       "      <td>NaN<\/td>\n",
       "      <td>NaN<\/td>\n",
       "    <\/tr>\n",
       "    <tr>\n",
       "      <th>2014-01-04<\/th>\n",
       "      <td>3023.0<\/td>\n",
       "      <td>4<\/td>\n",
       "      <td>1<\/td>\n",
       "      <td>1<\/td>\n",
       "      <td>1<\/td>\n",
       "      <td>4<\/td>\n",
       "      <td>Saturday<\/td>\n",
       "      <td>3<\/td>\n",
       "      <td>9<\/td>\n",
       "      <td>0<\/td>\n",
       "      <td>NaN<\/td>\n",
       "      <td>4828.0<\/td>\n",
       "      <td>3361.0<\/td>\n",
       "      <td>3167.0<\/td>\n",
       "      <td>NaN<\/td>\n",
       "      <td>NaN<\/td>\n",
       "    <\/tr>\n",
       "    <tr>\n",
       "      <th>2014-01-05<\/th>\n",
       "      <td>4821.0<\/td>\n",
       "      <td>5<\/td>\n",
       "      <td>1<\/td>\n",
       "      <td>1<\/td>\n",
       "      <td>1<\/td>\n",
       "      <td>5<\/td>\n",
       "      <td>Sunday<\/td>\n",
       "      <td>4<\/td>\n",
       "      <td>16<\/td>\n",
       "      <td>0<\/td>\n",
       "      <td>NaN<\/td>\n",
       "      <td>3023.0<\/td>\n",
       "      <td>4828.0<\/td>\n",
       "      <td>3361.0<\/td>\n",
       "      <td>NaN<\/td>\n",
       "      <td>NaN<\/td>\n",
       "    <\/tr>\n",
       "    <tr>\n",
       "      <th>...<\/th>\n",
       "      <td>...<\/td>\n",
       "      <td>...<\/td>\n",
       "      <td>...<\/td>\n",
       "      <td>...<\/td>\n",
       "      <td>...<\/td>\n",
       "      <td>...<\/td>\n",
       "      <td>...<\/td>\n",
       "      <td>...<\/td>\n",
       "      <td>...<\/td>\n",
       "      <td>...<\/td>\n",
       "      <td>...<\/td>\n",
       "      <td>...<\/td>\n",
       "      <td>...<\/td>\n",
       "      <td>...<\/td>\n",
       "      <td>...<\/td>\n",
       "      <td>...<\/td>\n",
       "    <\/tr>\n",
       "    <tr>\n",
       "      <th>2019-12-27<\/th>\n",
       "      <td>3937.0<\/td>\n",
       "      <td>361<\/td>\n",
       "      <td>12<\/td>\n",
       "      <td>52<\/td>\n",
       "      <td>5<\/td>\n",
       "      <td>27<\/td>\n",
       "      <td>Friday<\/td>\n",
       "      <td>2186<\/td>\n",
       "      <td>4778596<\/td>\n",
       "      <td>1<\/td>\n",
       "      <td>0.286506<\/td>\n",
       "      <td>3176.0<\/td>\n",
       "      <td>2647.0<\/td>\n",
       "      <td>3003.0<\/td>\n",
       "      <td>3221.1<\/td>\n",
       "      <td>423.751617<\/td>\n",
       "    <\/tr>\n",
       "    <tr>\n",
       "      <th>2019-12-28<\/th>\n",
       "      <td>3235.0<\/td>\n",
       "      <td>362<\/td>\n",
       "      <td>12<\/td>\n",
       "      <td>52<\/td>\n",
       "      <td>5<\/td>\n",
       "      <td>28<\/td>\n",
       "      <td>Saturday<\/td>\n",
       "      <td>2187<\/td>\n",
       "      <td>4782969<\/td>\n",
       "      <td>1<\/td>\n",
       "      <td>-0.578591<\/td>\n",
       "      <td>3937.0<\/td>\n",
       "      <td>3176.0<\/td>\n",
       "      <td>2647.0<\/td>\n",
       "      <td>3259.4<\/td>\n",
       "      <td>403.509383<\/td>\n",
       "    <\/tr>\n",
       "    <tr>\n",
       "      <th>2019-12-29<\/th>\n",
       "      <td>3810.0<\/td>\n",
       "      <td>363<\/td>\n",
       "      <td>12<\/td>\n",
       "      <td>52<\/td>\n",
       "      <td>5<\/td>\n",
       "      <td>29<\/td>\n",
       "      <td>Sunday<\/td>\n",
       "      <td>2188<\/td>\n",
       "      <td>4787344<\/td>\n",
       "      <td>1<\/td>\n",
       "      <td>0.845985<\/td>\n",
       "      <td>3235.0<\/td>\n",
       "      <td>3937.0<\/td>\n",
       "      <td>3176.0<\/td>\n",
       "      <td>3353.2<\/td>\n",
       "      <td>412.374641<\/td>\n",
       "    <\/tr>\n",
       "    <tr>\n",
       "      <th>2019-12-30<\/th>\n",
       "      <td>3582.0<\/td>\n",
       "      <td>364<\/td>\n",
       "      <td>12<\/td>\n",
       "      <td>1<\/td>\n",
       "      <td>1<\/td>\n",
       "      <td>30<\/td>\n",
       "      <td>Monday<\/td>\n",
       "      <td>2189<\/td>\n",
       "      <td>4791721<\/td>\n",
       "      <td>1<\/td>\n",
       "      <td>0.122183<\/td>\n",
       "      <td>3810.0<\/td>\n",
       "      <td>3235.0<\/td>\n",
       "      <td>3937.0<\/td>\n",
       "      <td>3324.6<\/td>\n",
       "      <td>381.463032<\/td>\n",
       "    <\/tr>\n",
       "    <tr>\n",
       "      <th>2019-12-31<\/th>\n",
       "      <td>3165.0<\/td>\n",
       "      <td>365<\/td>\n",
       "      <td>12<\/td>\n",
       "      <td>1<\/td>\n",
       "      <td>1<\/td>\n",
       "      <td>31<\/td>\n",
       "      <td>Tuesday<\/td>\n",
       "      <td>2190<\/td>\n",
       "      <td>4796100<\/td>\n",
       "      <td>1<\/td>\n",
       "      <td>-0.194151<\/td>\n",
       "      <td>3582.0<\/td>\n",
       "      <td>3810.0<\/td>\n",
       "      <td>3235.0<\/td>\n",
       "      <td>3320.3<\/td>\n",
       "      <td>383.162005<\/td>\n",
       "    <\/tr>\n",
       "  <\/tbody>\n",
       "<\/table>\n",
       "<p>2191 rows × 16 columns<\/p>\n",
       "<\/div>"
      ]
     },
     "metadata":{
      
     },
     "output_type":"display_data"
    }
   ],
   "metadata":{
    "datalore":{
     "node_id":"uZrlh1L4B8TyDc2jkXi3E9",
     "type":"CODE",
     "hide_input_from_viewers":true,
     "hide_output_from_viewers":true,
     "report_properties":{
      
     }
    }
   }
  },
  {
   "cell_type":"markdown",
   "source":[
    "## Visualisations "
   ],
   "attachments":{
    
   },
   "metadata":{
    "datalore":{
     "node_id":"kVKQgefEMjXjl5ZaeL9HFM",
     "type":"MD",
     "hide_input_from_viewers":true,
     "hide_output_from_viewers":true,
     "report_properties":{
      
     }
    }
   }
  },
  {
   "cell_type":"code",
   "source":[
    "data[['Pay_pax']].plot(figsize=(12,7))"
   ],
   "execution_count":10,
   "outputs":[
    {
     "data":{
      "text\/plain":[
       "<AxesSubplot:xlabel='timestamp'>"
      ]
     },
     "metadata":{
      
     },
     "output_type":"display_data"
    },
    {
     "data":{
      "image\/png":"[encoded data removed]"
     },
     "metadata":{
      "image\/png":{
       
      }
     },
     "output_type":"display_data"
    }
   ],
   "metadata":{
    "datalore":{
     "node_id":"Ag65TP7qcsjpmDnfB3OFdh",
     "type":"CODE",
     "hide_input_from_viewers":true,
     "hide_output_from_viewers":true,
     "report_properties":{
      
     }
    }
   }
  },
  {
   "cell_type":"code",
   "source":[
    "# Visualize possible seasonal effects (monthly)\n",
    "(data.groupby('Month')\n",
    " .sum()\n",
    " ['Pay_pax']\n",
    " .plot.bar())"
   ],
   "execution_count":11,
   "outputs":[
    {
     "data":{
      "text\/plain":[
       "<AxesSubplot:xlabel='Month'>"
      ]
     },
     "metadata":{
      
     },
     "output_type":"display_data"
    },
    {
     "data":{
      "image\/png":"[encoded data removed]"
     },
     "metadata":{
      "image\/png":{
       
      }
     },
     "output_type":"display_data"
    }
   ],
   "metadata":{
    "datalore":{
     "node_id":"1UiDC8U8yIPmOrmllxvoSO",
     "type":"CODE",
     "hide_input_from_viewers":true,
     "hide_output_from_viewers":true,
     "report_properties":{
      
     }
    }
   }
  },
  {
   "cell_type":"code",
   "source":[
    "# Visualize possible seasonal effects (weekly)\n",
    "sns.boxplot(data=data, x='Week', y='Pay_pax')"
   ],
   "execution_count":12,
   "outputs":[
    {
     "data":{
      "text\/plain":[
       "<AxesSubplot:xlabel='Week', ylabel='Pay_pax'>"
      ]
     },
     "metadata":{
      
     },
     "output_type":"display_data"
    },
    {
     "data":{
      "image\/png":"[encoded data removed]"
     },
     "metadata":{
      "image\/png":{
       
      }
     },
     "output_type":"display_data"
    }
   ],
   "metadata":{
    "datalore":{
     "node_id":"TJN5GyCSkmtHS8iVUUUoXT",
     "type":"CODE",
     "hide_input_from_viewers":true,
     "hide_output_from_viewers":true,
     "report_properties":{
      
     }
    }
   }
  },
  {
   "cell_type":"code",
   "source":[
    "def tsplot(y, lags=None, figsize=(10,8), style='bmh'):\n",
    "    if not isinstance(y,pd.Series):\n",
    "        y = pd.Series(y)\n",
    "    with plt.style.context(style):\n",
    "        fig = plt.figure(figsize=figsize)\n",
    "        layout = (3,2)\n",
    "        ts_ax = plt.subplot2grid(layout,(0,0),colspan=2)\n",
    "        \n",
    "        acf_ax = plt.subplot2grid(layout,(1,0))\n",
    "        pacf_ax = plt.subplot2grid(layout,(1,1))\n",
    "        qq_ax = plt.subplot2grid(layout,(2,0))\n",
    "        pp_ax = plt.subplot2grid(layout,(2,1))\n",
    "        \n",
    "        y.plot(ax=ts_ax)\n",
    "        ts_ax.set_title('Time Serie Analysis Plots')\n",
    "        smt.graphics.plot_acf(y, lags=lags, ax=acf_ax, alpha=0.5)\n",
    "        smt.graphics.plot_pacf(y, lags=lags, ax=pacf_ax, alpha=0.5)\n",
    "        sma.qqplot(y, line='s', ax=qq_ax)\n",
    "        qq_ax.set_title('QQ Plot')        \n",
    "        ss.probplot(y, sparams=(y.mean(), y.std()), plot=pp_ax)\n",
    "\n",
    "        plt.tight_layout()\n",
    "    return"
   ],
   "execution_count":13,
   "outputs":[
    
   ],
   "metadata":{
    "datalore":{
     "node_id":"hoVRDhKYZWhv60QzlKzDZN",
     "type":"CODE",
     "hide_input_from_viewers":true,
     "hide_output_from_viewers":true,
     "report_properties":{
      
     }
    }
   }
  },
  {
   "cell_type":"code",
   "source":[
    "tsplot(data['Pay_pax'], lags=10)"
   ],
   "execution_count":8,
   "outputs":[
    {
     "name":"stderr",
     "text":[
      "\/opt\/python\/envs\/default\/lib\/python3.8\/site-packages\/statsmodels\/graphics\/tsaplots.py:348: FutureWarning: The default method 'yw' can produce PACF values outside of the [-1,1] interval. After 0.13, the default will change tounadjusted Yule-Walker ('ywm'). You can use this method now by setting method='ywm'.\n",
      "  warnings.warn(\n"
     ],
     "output_type":"stream"
    },
    {
     "data":{
      "image\/png":"[encoded data removed]"
     },
     "metadata":{
      "image\/png":{
       
      }
     },
     "output_type":"display_data"
    }
   ],
   "metadata":{
    "datalore":{
     "node_id":"81jYhXcm0bf1xOOxu4LF1U",
     "type":"CODE",
     "hide_input_from_viewers":true,
     "hide_output_from_viewers":true,
     "report_properties":{
      
     }
    }
   }
  },
  {
   "cell_type":"code",
   "source":[
    "#High 7 day autocorrelation. Weekly cycle should be included"
   ],
   "execution_count":null,
   "outputs":[
    
   ],
   "metadata":{
    "datalore":{
     "node_id":"oiRFbG9avtiQyMvOybnqYz",
     "type":"CODE",
     "hide_input_from_viewers":true,
     "hide_output_from_viewers":true,
     "report_properties":{
      
     }
    }
   }
  },
  {
   "cell_type":"markdown",
   "source":[
    "## XGBRegressor"
   ],
   "attachments":{
    
   },
   "metadata":{
    "datalore":{
     "node_id":"N2FaMjc1taq5sjfJH8F46C",
     "type":"MD",
     "hide_input_from_viewers":true,
     "hide_output_from_viewers":true,
     "report_properties":{
      
     }
    }
   }
  },
  {
   "cell_type":"code",
   "source":[
    "predict_date = len(data) - len(data[:'2018'])\n",
    "predict_date"
   ],
   "execution_count":8,
   "outputs":[
    {
     "data":{
      "text\/plain":[
       "365"
      ]
     },
     "metadata":{
      
     },
     "output_type":"display_data"
    }
   ],
   "metadata":{
    "datalore":{
     "node_id":"hvq4aif5KDe6xpHu9CszIq",
     "type":"CODE",
     "hide_input_from_viewers":true,
     "hide_output_from_viewers":true,
     "report_properties":{
      
     }
    }
   }
  },
  {
   "cell_type":"code",
   "source":[
    "from xgboost import XGBRegressor\n",
    "from sklearn.metrics import mean_squared_error, mean_absolute_percentage_error"
   ],
   "execution_count":109,
   "outputs":[
    
   ],
   "metadata":{
    "datalore":{
     "node_id":"yj2JBNB6SgotwjLh3siMYR",
     "type":"CODE",
     "hide_input_from_viewers":true,
     "hide_output_from_viewers":true,
     "report_properties":{
      
     }
    }
   }
  },
  {
   "cell_type":"code",
   "source":[
    "data"
   ],
   "execution_count":14,
   "outputs":[
    {
     "data":{
      "text\/html":[
       "<div>\n",
       "<style scoped>\n",
       "    .dataframe tbody tr th:only-of-type {\n",
       "        vertical-align: middle;\n",
       "    }\n",
       "\n",
       "    .dataframe tbody tr th {\n",
       "        vertical-align: top;\n",
       "    }\n",
       "\n",
       "    .dataframe thead th {\n",
       "        text-align: right;\n",
       "    }\n",
       "<\/style>\n",
       "<table border=\"1\" class=\"dataframe\">\n",
       "  <thead>\n",
       "    <tr style=\"text-align: right;\">\n",
       "      <th><\/th>\n",
       "      <th>Pay_pax<\/th>\n",
       "      <th>Days_of_year<\/th>\n",
       "      <th>Month<\/th>\n",
       "      <th>Week<\/th>\n",
       "      <th>Week_Month<\/th>\n",
       "      <th>Day_Number<\/th>\n",
       "      <th>Day_Name<\/th>\n",
       "      <th>Time<\/th>\n",
       "      <th>Time2<\/th>\n",
       "      <th>Holidays<\/th>\n",
       "      <th>rate_of_change_L14<\/th>\n",
       "      <th>Pay_pax_L1<\/th>\n",
       "      <th>Pay_pax_L2<\/th>\n",
       "      <th>Pay_pax_L3<\/th>\n",
       "      <th>RM_10<\/th>\n",
       "      <th>SD_10<\/th>\n",
       "    <\/tr>\n",
       "    <tr>\n",
       "      <th>timestamp<\/th>\n",
       "      <th><\/th>\n",
       "      <th><\/th>\n",
       "      <th><\/th>\n",
       "      <th><\/th>\n",
       "      <th><\/th>\n",
       "      <th><\/th>\n",
       "      <th><\/th>\n",
       "      <th><\/th>\n",
       "      <th><\/th>\n",
       "      <th><\/th>\n",
       "      <th><\/th>\n",
       "      <th><\/th>\n",
       "      <th><\/th>\n",
       "      <th><\/th>\n",
       "      <th><\/th>\n",
       "      <th><\/th>\n",
       "    <\/tr>\n",
       "  <\/thead>\n",
       "  <tbody>\n",
       "    <tr>\n",
       "      <th>2014-01-01<\/th>\n",
       "      <td>3167.0<\/td>\n",
       "      <td>1<\/td>\n",
       "      <td>1<\/td>\n",
       "      <td>1<\/td>\n",
       "      <td>1<\/td>\n",
       "      <td>1<\/td>\n",
       "      <td>Wednesday<\/td>\n",
       "      <td>0<\/td>\n",
       "      <td>0<\/td>\n",
       "      <td>0<\/td>\n",
       "      <td>NaN<\/td>\n",
       "      <td>NaN<\/td>\n",
       "      <td>NaN<\/td>\n",
       "      <td>NaN<\/td>\n",
       "      <td>NaN<\/td>\n",
       "      <td>NaN<\/td>\n",
       "    <\/tr>\n",
       "    <tr>\n",
       "      <th>2014-01-02<\/th>\n",
       "      <td>3361.0<\/td>\n",
       "      <td>2<\/td>\n",
       "      <td>1<\/td>\n",
       "      <td>1<\/td>\n",
       "      <td>1<\/td>\n",
       "      <td>2<\/td>\n",
       "      <td>Thursday<\/td>\n",
       "      <td>1<\/td>\n",
       "      <td>1<\/td>\n",
       "      <td>0<\/td>\n",
       "      <td>NaN<\/td>\n",
       "      <td>3167.0<\/td>\n",
       "      <td>NaN<\/td>\n",
       "      <td>NaN<\/td>\n",
       "      <td>NaN<\/td>\n",
       "      <td>NaN<\/td>\n",
       "    <\/tr>\n",
       "    <tr>\n",
       "      <th>2014-01-03<\/th>\n",
       "      <td>4828.0<\/td>\n",
       "      <td>3<\/td>\n",
       "      <td>1<\/td>\n",
       "      <td>1<\/td>\n",
       "      <td>1<\/td>\n",
       "      <td>3<\/td>\n",
       "      <td>Friday<\/td>\n",
       "      <td>2<\/td>\n",
       "      <td>4<\/td>\n",
       "      <td>0<\/td>\n",
       "      <td>NaN<\/td>\n",
       "      <td>3361.0<\/td>\n",
       "      <td>3167.0<\/td>\n",
       "      <td>NaN<\/td>\n",
       "      <td>NaN<\/td>\n",
       "      <td>NaN<\/td>\n",
       "    <\/tr>\n",
       "    <tr>\n",
       "      <th>2014-01-04<\/th>\n",
       "      <td>3023.0<\/td>\n",
       "      <td>4<\/td>\n",
       "      <td>1<\/td>\n",
       "      <td>1<\/td>\n",
       "      <td>1<\/td>\n",
       "      <td>4<\/td>\n",
       "      <td>Saturday<\/td>\n",
       "      <td>3<\/td>\n",
       "      <td>9<\/td>\n",
       "      <td>0<\/td>\n",
       "      <td>NaN<\/td>\n",
       "      <td>4828.0<\/td>\n",
       "      <td>3361.0<\/td>\n",
       "      <td>3167.0<\/td>\n",
       "      <td>NaN<\/td>\n",
       "      <td>NaN<\/td>\n",
       "    <\/tr>\n",
       "    <tr>\n",
       "      <th>2014-01-05<\/th>\n",
       "      <td>4821.0<\/td>\n",
       "      <td>5<\/td>\n",
       "      <td>1<\/td>\n",
       "      <td>1<\/td>\n",
       "      <td>1<\/td>\n",
       "      <td>5<\/td>\n",
       "      <td>Sunday<\/td>\n",
       "      <td>4<\/td>\n",
       "      <td>16<\/td>\n",
       "      <td>0<\/td>\n",
       "      <td>NaN<\/td>\n",
       "      <td>3023.0<\/td>\n",
       "      <td>4828.0<\/td>\n",
       "      <td>3361.0<\/td>\n",
       "      <td>NaN<\/td>\n",
       "      <td>NaN<\/td>\n",
       "    <\/tr>\n",
       "    <tr>\n",
       "      <th>...<\/th>\n",
       "      <td>...<\/td>\n",
       "      <td>...<\/td>\n",
       "      <td>...<\/td>\n",
       "      <td>...<\/td>\n",
       "      <td>...<\/td>\n",
       "      <td>...<\/td>\n",
       "      <td>...<\/td>\n",
       "      <td>...<\/td>\n",
       "      <td>...<\/td>\n",
       "      <td>...<\/td>\n",
       "      <td>...<\/td>\n",
       "      <td>...<\/td>\n",
       "      <td>...<\/td>\n",
       "      <td>...<\/td>\n",
       "      <td>...<\/td>\n",
       "      <td>...<\/td>\n",
       "    <\/tr>\n",
       "    <tr>\n",
       "      <th>2019-12-27<\/th>\n",
       "      <td>3937.0<\/td>\n",
       "      <td>361<\/td>\n",
       "      <td>12<\/td>\n",
       "      <td>52<\/td>\n",
       "      <td>5<\/td>\n",
       "      <td>27<\/td>\n",
       "      <td>Friday<\/td>\n",
       "      <td>2186<\/td>\n",
       "      <td>4778596<\/td>\n",
       "      <td>1<\/td>\n",
       "      <td>0.286506<\/td>\n",
       "      <td>3176.0<\/td>\n",
       "      <td>2647.0<\/td>\n",
       "      <td>3003.0<\/td>\n",
       "      <td>3221.1<\/td>\n",
       "      <td>423.751617<\/td>\n",
       "    <\/tr>\n",
       "    <tr>\n",
       "      <th>2019-12-28<\/th>\n",
       "      <td>3235.0<\/td>\n",
       "      <td>362<\/td>\n",
       "      <td>12<\/td>\n",
       "      <td>52<\/td>\n",
       "      <td>5<\/td>\n",
       "      <td>28<\/td>\n",
       "      <td>Saturday<\/td>\n",
       "      <td>2187<\/td>\n",
       "      <td>4782969<\/td>\n",
       "      <td>1<\/td>\n",
       "      <td>-0.578591<\/td>\n",
       "      <td>3937.0<\/td>\n",
       "      <td>3176.0<\/td>\n",
       "      <td>2647.0<\/td>\n",
       "      <td>3259.4<\/td>\n",
       "      <td>403.509383<\/td>\n",
       "    <\/tr>\n",
       "    <tr>\n",
       "      <th>2019-12-29<\/th>\n",
       "      <td>3810.0<\/td>\n",
       "      <td>363<\/td>\n",
       "      <td>12<\/td>\n",
       "      <td>52<\/td>\n",
       "      <td>5<\/td>\n",
       "      <td>29<\/td>\n",
       "      <td>Sunday<\/td>\n",
       "      <td>2188<\/td>\n",
       "      <td>4787344<\/td>\n",
       "      <td>1<\/td>\n",
       "      <td>0.845985<\/td>\n",
       "      <td>3235.0<\/td>\n",
       "      <td>3937.0<\/td>\n",
       "      <td>3176.0<\/td>\n",
       "      <td>3353.2<\/td>\n",
       "      <td>412.374641<\/td>\n",
       "    <\/tr>\n",
       "    <tr>\n",
       "      <th>2019-12-30<\/th>\n",
       "      <td>3582.0<\/td>\n",
       "      <td>364<\/td>\n",
       "      <td>12<\/td>\n",
       "      <td>1<\/td>\n",
       "      <td>1<\/td>\n",
       "      <td>30<\/td>\n",
       "      <td>Monday<\/td>\n",
       "      <td>2189<\/td>\n",
       "      <td>4791721<\/td>\n",
       "      <td>1<\/td>\n",
       "      <td>0.122183<\/td>\n",
       "      <td>3810.0<\/td>\n",
       "      <td>3235.0<\/td>\n",
       "      <td>3937.0<\/td>\n",
       "      <td>3324.6<\/td>\n",
       "      <td>381.463032<\/td>\n",
       "    <\/tr>\n",
       "    <tr>\n",
       "      <th>2019-12-31<\/th>\n",
       "      <td>3165.0<\/td>\n",
       "      <td>365<\/td>\n",
       "      <td>12<\/td>\n",
       "      <td>1<\/td>\n",
       "      <td>1<\/td>\n",
       "      <td>31<\/td>\n",
       "      <td>Tuesday<\/td>\n",
       "      <td>2190<\/td>\n",
       "      <td>4796100<\/td>\n",
       "      <td>1<\/td>\n",
       "      <td>-0.194151<\/td>\n",
       "      <td>3582.0<\/td>\n",
       "      <td>3810.0<\/td>\n",
       "      <td>3235.0<\/td>\n",
       "      <td>3320.3<\/td>\n",
       "      <td>383.162005<\/td>\n",
       "    <\/tr>\n",
       "  <\/tbody>\n",
       "<\/table>\n",
       "<p>2191 rows × 16 columns<\/p>\n",
       "<\/div>"
      ]
     },
     "metadata":{
      
     },
     "output_type":"display_data"
    }
   ],
   "metadata":{
    "datalore":{
     "node_id":"sVzh5MbUd30RVtaZDNQMc2",
     "type":"CODE",
     "hide_input_from_viewers":true,
     "hide_output_from_viewers":true,
     "report_properties":{
      
     }
    }
   }
  },
  {
   "cell_type":"code",
   "source":[
    "def trial(trial):\n",
    "    lr = trial.suggest_float(\"lr\", 1e-4, 1e-1, log=True )\n",
    "    max_depth = trial.suggest_int(\"max_depth\", 10, 1000)\n",
    "    n_estimators = trial.suggest_int(\"n_estimators\", 10, 1000)\n",
    "\n",
    "    data[\"RM_10_L\" + str(28)] = data[\"RM_10\"].shift(28)\n",
    "    data[\"SD_10_L\" + str(28)] = data[\"SD_10\"].shift(28)\n",
    "\n",
    "    y_to_train = data[\"2016\":\"2018\"]\n",
    "    y_to_val = data[\" 2019\":]\n",
    "\n",
    "    X_train_L = y_to_train[[\"Month\", \"Week\", \"Week_Month\", \"Holidays\", \"RM_10_L\" + str(28), \"SD_10_L\" + str(28)]]\n",
    "    y_train_L = y_to_train.Pay_pax.values\n",
    "    X_val_L = y_to_val[[\"Month\", \"Week\", \"Week_Month\", \"Holidays\", \"RM_10_L\" + str(28), \"SD_10_L\" + str(28)]]\n",
    "    y_val_L = y_to_val.Pay_pax.values\n",
    "    \n",
    "    model = XGBRegressor(lr = lr, max_depth = max_depth, n_estimators = n_estimators)\n",
    "    model.fit(X_train_L, y_train_L)\n",
    "    pred = model.predict(X_val_L)\n",
    "\n",
    "    rmse = np.sqrt(mean_squared_error(y_val_L, pred))\n",
    "    return rmse\n",
    "\n",
    "study = optuna.create_study()\n",
    "study.optimize(trial, n_trials = 100, show_progress_bar=True)"
   ],
   "execution_count":10,
   "outputs":[
    {
     "name":"stdout",
     "text":[
      "[08:16:27] WARNING: ..\/src\/learner.cc:576: \n",
      "Parameters: { \"lr\" } might not be used.\n",
      "\n",
      "  This could be a false alarm, with some parameters getting used by language bindings but\n",
      "  then being mistakenly passed down to XGBoost core, or some parameter actually being used\n",
      "  but getting flagged wrongly here. Please open an issue if you find any such cases.\n",
      "\n",
      "\n",
      "\u001b[32m[I 2022-12-20 08:16:28,997]\u001b[0m Trial 0 finished with value: 1010.1397362992969 and parameters: {'lr': 0.018071805072866858, 'max_depth': 41, 'n_estimators': 184}. Best is trial 0 with value: 1010.1397362992969.\u001b[0m\n",
      "[08:16:29] WARNING: ..\/src\/learner.cc:576: \n",
      "Parameters: { \"lr\" } might not be used.\n",
      "\n",
      "  This could be a false alarm, with some parameters getting used by language bindings but\n",
      "  then being mistakenly passed down to XGBoost core, or some parameter actually being used\n",
      "  but getting flagged wrongly here. Please open an issue if you find any such cases.\n",
      "\n",
      "\n",
      "\u001b[32m[I 2022-12-20 08:16:29,216]\u001b[0m Trial 1 finished with value: 1019.5187006063087 and parameters: {'lr': 0.004826203180645011, 'max_depth': 829, 'n_estimators': 22}. Best is trial 0 with value: 1010.1397362992969.\u001b[0m\n",
      "[08:16:29] WARNING: ..\/src\/learner.cc:576: \n",
      "Parameters: { \"lr\" } might not be used.\n",
      "\n",
      "  This could be a false alarm, with some parameters getting used by language bindings but\n",
      "  then being mistakenly passed down to XGBoost core, or some parameter actually being used\n",
      "  but getting flagged wrongly here. Please open an issue if you find any such cases.\n",
      "\n",
      "\n",
      "\u001b[32m[I 2022-12-20 08:16:30,467]\u001b[0m Trial 2 finished with value: 1008.8409867198924 and parameters: {'lr': 0.00029684755637959234, 'max_depth': 691, 'n_estimators': 239}. Best is trial 2 with value: 1008.8409867198924.\u001b[0m\n",
      "[08:16:30] WARNING: ..\/src\/learner.cc:576: \n",
      "Parameters: { \"lr\" } might not be used.\n",
      "\n",
      "  This could be a false alarm, with some parameters getting used by language bindings but\n",
      "  then being mistakenly passed down to XGBoost core, or some parameter actually being used\n",
      "  but getting flagged wrongly here. Please open an issue if you find any such cases.\n",
      "\n",
      "\n",
      "\u001b[32m[I 2022-12-20 08:16:32,643]\u001b[0m Trial 3 finished with value: 1008.8413537739298 and parameters: {'lr': 0.0192270172119316, 'max_depth': 518, 'n_estimators': 618}. Best is trial 2 with value: 1008.8409867198924.\u001b[0m\n",
      "[08:16:32] WARNING: ..\/src\/learner.cc:576: \n",
      "Parameters: { \"lr\" } might not be used.\n",
      "\n",
      "  This could be a false alarm, with some parameters getting used by language bindings but\n",
      "  then being mistakenly passed down to XGBoost core, or some parameter actually being used\n",
      "  but getting flagged wrongly here. Please open an issue if you find any such cases.\n",
      "\n",
      "\n",
      "\u001b[32m[I 2022-12-20 08:16:34,088]\u001b[0m Trial 4 finished with value: 1008.8410677280805 and parameters: {'lr': 0.00041533405829391397, 'max_depth': 532, 'n_estimators': 322}. Best is trial 2 with value: 1008.8409867198924.\u001b[0m\n",
      "[08:16:34] WARNING: ..\/src\/learner.cc:576: \n",
      "Parameters: { \"lr\" } might not be used.\n",
      "\n",
      "  This could be a false alarm, with some parameters getting used by language bindings but\n",
      "  then being mistakenly passed down to XGBoost core, or some parameter actually being used\n",
      "  but getting flagged wrongly here. Please open an issue if you find any such cases.\n",
      "\n",
      "\n",
      "\u001b[32m[I 2022-12-20 08:16:35,779]\u001b[0m Trial 5 finished with value: 1008.8411667409639 and parameters: {'lr': 0.009126300487647607, 'max_depth': 636, 'n_estimators': 425}. Best is trial 2 with value: 1008.8409867198924.\u001b[0m\n",
      "[08:16:35] WARNING: ..\/src\/learner.cc:576: \n",
      "Parameters: { \"lr\" } might not be used.\n",
      "\n",
      "  This could be a false alarm, with some parameters getting used by language bindings but\n",
      "  then being mistakenly passed down to XGBoost core, or some parameter actually being used\n",
      "  but getting flagged wrongly here. Please open an issue if you find any such cases.\n",
      "\n",
      "\n",
      "\u001b[33m[W 2022-12-20 08:16:36,050]\u001b[0m Trial 6 failed because of the following error: KeyboardInterrupt()\u001b[0m\n",
      "Traceback (most recent call last):\n",
      "  File \"\/opt\/python\/envs\/default\/lib\/python3.8\/site-packages\/optuna\/study\/_optimize.py\", line 196, in _run_trial\n",
      "    value_or_values = func(trial)\n",
      "  File \"<ipython-input-10-fdb9109b6cf6>\", line 18, in trial\n",
      "    model.fit(X_train_L, y_train_L)\n",
      "  File \"\/opt\/python\/envs\/default\/lib\/python3.8\/site-packages\/xgboost\/core.py\", line 506, in inner_f\n",
      "    return f(**kwargs)\n",
      "  File \"\/opt\/python\/envs\/default\/lib\/python3.8\/site-packages\/xgboost\/sklearn.py\", line 789, in fit\n",
      "    self._Booster = train(\n",
      "  File \"\/opt\/python\/envs\/default\/lib\/python3.8\/site-packages\/xgboost\/training.py\", line 188, in train\n",
      "    bst = _train_internal(params, dtrain,\n",
      "  File \"\/opt\/python\/envs\/default\/lib\/python3.8\/site-packages\/xgboost\/training.py\", line 81, in _train_internal\n",
      "    bst.update(dtrain, i, obj)\n",
      "  File \"\/opt\/python\/envs\/default\/lib\/python3.8\/site-packages\/xgboost\/core.py\", line 1677, in update\n",
      "    self._validate_features(dtrain)\n",
      "  File \"\/opt\/python\/envs\/default\/lib\/python3.8\/site-packages\/xgboost\/core.py\", line 2471, in _validate_features\n",
      "    if self.feature_names != data.feature_names:\n",
      "  File \"\/opt\/python\/envs\/default\/lib\/python3.8\/site-packages\/xgboost\/core.py\", line 1615, in feature_names\n",
      "    return self._get_feature_info(\"feature_name\")\n",
      "  File \"\/opt\/python\/envs\/default\/lib\/python3.8\/site-packages\/xgboost\/core.py\", line 1594, in _get_feature_info\n",
      "    _LIB.XGBoosterGetStrFeatureInfo(\n",
      "KeyboardInterrupt\n"
     ],
     "output_type":"stream"
    },
    {
     "name":"stderr",
     "text":[
      "\u001b[32m[I 2022-12-20 08:16:27,808]\u001b[0m A new study created in memory with name: no-name-0a011c9a-b89a-467c-b5c1-9f70c0b443ad\u001b[0m\n",
      "\/opt\/python\/envs\/default\/lib\/python3.8\/site-packages\/optuna\/progress_bar.py:49: ExperimentalWarning: Progress bar is experimental (supported from v1.2.0). The interface can change in the future.\n",
      "  self._init_valid()\n"
     ],
     "output_type":"stream"
    },
    {
     "ename":"KeyboardInterrupt",
     "evalue":"KeyboardInterrupt: ",
     "traceback":[
      "\u001b[0;31m---------------------------------------------------------------------------",
      "Traceback (most recent call last)",
      "    at line 25 in <module>",
      "    at line 419 in optimize(self, func, n_trials, timeout, n_jobs, catch, callbacks, gc_after_trial, show_progress_bar)",
      "    at line 66 in _optimize(study, func, n_trials, timeout, n_jobs, catch, callbacks, gc_after_trial, show_progress_bar)",
      "    at line 160 in _optimize_sequential(study, func, n_trials, timeout, catch, callbacks, gc_after_trial, reseed_sampler_rng, time_start, progress_bar)",
      "    at line 234 in _run_trial(study, func, catch)",
      "    at line 196 in _run_trial(study, func, catch)",
      "    at line 18 in trial(trial)",
      "    at line 506 in inner_f(*args, **kwargs)",
      "    at line 789 in fit(self, X, y, sample_weight, base_margin, eval_set, eval_metric, early_stopping_rounds, verbose, xgb_model, sample_weight_eval_set, base_margin_eval_set, feature_weights, callbacks)",
      "    at line 188 in train(params, dtrain, num_boost_round, evals, obj, feval, maximize, early_stopping_rounds, evals_result, verbose_eval, xgb_model, callbacks)",
      "    at line 81 in _train_internal(params, dtrain, num_boost_round, evals, obj, feval, xgb_model, callbacks, evals_result, maximize, verbose_eval, early_stopping_rounds)",
      "    at line 1677 in update(self, dtrain, iteration, fobj)",
      "    at line 2471 in _validate_features(self, data)",
      "    at line 1615 in feature_names(self)",
      "    at line 1594 in _get_feature_info(self, field)",
      "KeyboardInterrupt: "
     ],
     "output_type":"error"
    },
    {
     "data":{
      "application\/vnd.jupyter.widget-view+json":{
       "version_major":2,
       "version_minor":0,
       "model_id":"926480ee57cd41f6bb6b4c7eada554d9"
      }
     },
     "metadata":{
      "application\/vnd.jupyter.widget-view+json":{
       "datalore":{
        "widget_id":"46pkxrPdnmrlGtDWvpTKUf"
       }
      }
     },
     "output_type":"display_data"
    }
   ],
   "metadata":{
    "datalore":{
     "node_id":"6kvZIVvciEWcorHhoL6Qjb",
     "type":"CODE",
     "hide_input_from_viewers":true,
     "hide_output_from_viewers":true
    }
   }
  },
  {
   "cell_type":"code",
   "source":[
    "optuna.visualization.plot_slice(study)"
   ],
   "execution_count":17,
   "outputs":[
    {
     "data":{
      "application\/vnd.plotly.v1+json":{
       "data":[
        {
         "marker":{
          "color":[
           0,
           1,
           2,
           3,
           4,
           5,
           6,
           7,
           8,
           9,
           10,
           11,
           12,
           13,
           14,
           15,
           16,
           17,
           18,
           19,
           20,
           21,
           22,
           23,
           24,
           25,
           26,
           27,
           28,
           29,
           30,
           31,
           32,
           33,
           34,
           35,
           36,
           37,
           38,
           39,
           40,
           41,
           42,
           43,
           44,
           45,
           46,
           47,
           48,
           49,
           50,
           51,
           52,
           53,
           54,
           55,
           56,
           57,
           58,
           59,
           60,
           61,
           62,
           63,
           64,
           65,
           66,
           67,
           68,
           69,
           70,
           71,
           72,
           73,
           74,
           75,
           76,
           77,
           78,
           79,
           80,
           81,
           82,
           83,
           84,
           85,
           86,
           87,
           88,
           89,
           90,
           91,
           92,
           93,
           94,
           95,
           96,
           97,
           98,
           99
          ],
          "colorbar":{
           "title":{
            "text":"Trial"
           },
           "x":1,
           "xpad":40
          },
          "colorscale":[
           [
            0,
            "rgb(247,251,255)"
           ],
           [
            0.125,
            "rgb(222,235,247)"
           ],
           [
            0.25,
            "rgb(198,219,239)"
           ],
           [
            0.375,
            "rgb(158,202,225)"
           ],
           [
            0.5,
            "rgb(107,174,214)"
           ],
           [
            0.625,
            "rgb(66,146,198)"
           ],
           [
            0.75,
            "rgb(33,113,181)"
           ],
           [
            0.875,
            "rgb(8,81,156)"
           ],
           [
            1,
            "rgb(8,48,107)"
           ]
          ],
          "line":{
           "color":"Grey",
           "width":0.5
          },
          "showscale":true
         },
         "mode":"markers",
         "showlegend":false,
         "x":[
          0.03690879490271119,
          0.013395272182943068,
          0.029051918001745503,
          0.0011245120666103284,
          0.006771938011603893,
          7.635774587836009E-4,
          0.07711104272356965,
          0.026728587257331113,
          1.386203036853266E-4,
          0.0355164853958016,
          0.005459683343119565,
          0.01233495169426518,
          0.002160152711982329,
          0.015098309534837663,
          0.011142218957170094,
          0.002813094054589374,
          0.09217509597791791,
          0.08260156434689908,
          3.9181662081245685E-4,
          0.0897963906447848,
          0.0044607212442319966,
          0.013518323950536154,
          0.016237620849593598,
          0.04780074613838694,
          0.00781409296434018,
          0.02104516438508193,
          0.049692421492171124,
          0.017827506234196214,
          0.008703148143118252,
          0.001606025213382719,
          0.008266467594549697,
          0.016867423669346557,
          0.003571653137055655,
          0.040020071052254094,
          0.02478407986999025,
          0.009388478428419856,
          0.05948609426615369,
          0.02502248676885722,
          0.03223941733403461,
          0.0190776259113817,
          0.06586738567043986,
          0.029190609427276176,
          0.0351079972151324,
          0.006934707850067167,
          0.03858969846106229,
          0.057295571495125486,
          0.026322347801105973,
          0.09779094601431089,
          0.027465452747671072,
          0.0465541790546498,
          0.005142149609716055,
          0.012994812957745896,
          0.010313614367121145,
          0.01580461616611291,
          2.0281049250082999E-4,
          0.06836999192281594,
          0.0754424284629643,
          0.0713850148950441,
          0.0349881434664869,
          0.02726108677651542,
          0.07129593409025468,
          0.021406435431231014,
          0.045532681444672436,
          0.034510030783926386,
          0.049506850456650715,
          0.02130325412983321,
          0.09706552801863869,
          0.0813641236692178,
          0.09563742915637766,
          0.09252492480494494,
          0.09224711797537521,
          0.08343663988691746,
          0.06169408197096468,
          0.09614884570954765,
          0.07225786598270904,
          0.055282322282601645,
          0.03823601978617031,
          8.315846262268305E-4,
          0.08397284047795418,
          0.05471956237034576,
          0.05431004111614198,
          0.07661898903607876,
          0.03351414844224479,
          0.03979295101116664,
          0.043045339179182754,
          0.042681505794181236,
          0.061807357911326216,
          0.09907325182794918,
          0.031665832591783,
          0.04338744096142015,
          0.06825617761394127,
          0.08140009370497209,
          0.03484659611391249,
          0.002046247186182051,
          0.06474087213909056,
          0.029877188749682093,
          0.04840583084868356,
          0.03896981144469398,
          0.08339806275403876,
          0.059389241889427014
         ],
         "y":[
          1008.8411097331599,
          1008.840935186813,
          1008.8412237498165,
          1008.8416838596369,
          1008.8411687412568,
          1008.8410537265139,
          1008.84168485995,
          1008.8409681893074,
          1008.8410407251158,
          1008.840973189716,
          1065.5995313157446,
          1008.8449721789,
          1008.841380779622,
          1008.840935186813,
          1008.8413867809189,
          1008.8411602523166,
          1008.840935186813,
          1008.8413977833267,
          1008.8415318157936,
          1008.8409395383029,
          1008.8412947623101,
          1008.8409641889864,
          1008.840935186813,
          1009.9188347128079,
          1008.8410667279666,
          1008.8409409605783,
          1008.8409987209718,
          1008.8411187343224,
          1008.840935186813,
          1008.8411617402375,
          1008.842246275241,
          1008.840935186813,
          1008.841017722776,
          1008.8411057326516,
          1008.840935186813,
          1008.84124175283,
          1008.8528148659018,
          1008.8409561883597,
          1008.8410907307916,
          1008.8411557393762,
          1008.8410097220021,
          1008.840935186813,
          1008.8409185085223,
          1008.8417283544037,
          1011.5457309674368,
          1008.8409395383029,
          1008.8416248417333,
          1008.8409441874585,
          1008.8409867198924,
          1008.8410337243856,
          1008.8414443022231,
          1008.8409395383029,
          1008.8409371869542,
          1131.247558859402,
          1008.8464671841432,
          1008.840935186813,
          1008.8409761899651,
          1008.8409185085223,
          1008.8412967626856,
          1008.8410597271776,
          1008.8685617717551,
          1008.8409396977781,
          1008.840935186813,
          1008.840935186813,
          1008.8409761899651,
          1008.8421292420393,
          1008.840923952073,
          1008.8409245669006,
          1008.8409130985009,
          1008.8409185085223,
          1008.9549303181735,
          1008.8409395383029,
          1008.8420841223407,
          1008.8409620278528,
          1008.8409395383029,
          1008.8435416466027,
          1008.8413022769855,
          1009.0502666183831,
          1008.8409987209718,
          1008.840935186813,
          1008.8414828032493,
          1008.8409521880542,
          1008.840923952073,
          1008.840922260224,
          1008.8409185085223,
          1008.8409620278528,
          1008.8426596048749,
          1008.8409395383029,
          1008.8417756966548,
          1029.1315237133003,
          1009.0502666183831,
          1008.8409409605783,
          1008.840935186813,
          1008.8449721789,
          1008.8409601886705,
          1008.8412075938098,
          1008.840935186813,
          1054.8635584736373,
          1008.8409395383029,
          1008.864582392921
         ],
         "type":"scatter",
         "xaxis":"x",
         "yaxis":"y"
        },
        {
         "marker":{
          "color":[
           0,
           1,
           2,
           3,
           4,
           5,
           6,
           7,
           8,
           9,
           10,
           11,
           12,
           13,
           14,
           15,
           16,
           17,
           18,
           19,
           20,
           21,
           22,
           23,
           24,
           25,
           26,
           27,
           28,
           29,
           30,
           31,
           32,
           33,
           34,
           35,
           36,
           37,
           38,
           39,
           40,
           41,
           42,
           43,
           44,
           45,
           46,
           47,
           48,
           49,
           50,
           51,
           52,
           53,
           54,
           55,
           56,
           57,
           58,
           59,
           60,
           61,
           62,
           63,
           64,
           65,
           66,
           67,
           68,
           69,
           70,
           71,
           72,
           73,
           74,
           75,
           76,
           77,
           78,
           79,
           80,
           81,
           82,
           83,
           84,
           85,
           86,
           87,
           88,
           89,
           90,
           91,
           92,
           93,
           94,
           95,
           96,
           97,
           98,
           99
          ],
          "colorbar":{
           "title":{
            "text":"Trial"
           },
           "x":1,
           "xpad":40
          },
          "colorscale":[
           [
            0,
            "rgb(247,251,255)"
           ],
           [
            0.125,
            "rgb(222,235,247)"
           ],
           [
            0.25,
            "rgb(198,219,239)"
           ],
           [
            0.375,
            "rgb(158,202,225)"
           ],
           [
            0.5,
            "rgb(107,174,214)"
           ],
           [
            0.625,
            "rgb(66,146,198)"
           ],
           [
            0.75,
            "rgb(33,113,181)"
           ],
           [
            0.875,
            "rgb(8,81,156)"
           ],
           [
            1,
            "rgb(8,48,107)"
           ]
          ],
          "line":{
           "color":"Grey",
           "width":0.5
          },
          "showscale":false
         },
         "mode":"markers",
         "showlegend":false,
         "x":[
          566,
          573,
          492,
          574,
          355,
          156,
          796,
          551,
          241,
          274,
          966,
          726,
          477,
          706,
          754,
          932,
          699,
          848,
          642,
          56,
          413,
          661,
          867,
          836,
          674,
          896,
          786,
          620,
          997,
          979,
          419,
          872,
          894,
          556,
          798,
          992,
          594,
          809,
          515,
          864,
          773,
          712,
          717,
          922,
          698,
          941,
          742,
          598,
          812,
          910,
          519,
          849,
          763,
          703,
          467,
          730,
          818,
          661,
          647,
          677,
          635,
          728,
          573,
          759,
          605,
          560,
          953,
          968,
          275,
          209,
          233,
          188,
          340,
          48,
          128,
          319,
          947,
          97,
          210,
          272,
          284,
          997,
          878,
          960,
          952,
          970,
          893,
          949,
          966,
          10,
          918,
          877,
          935,
          996,
          392,
          849,
          971,
          903,
          955,
          827
         ],
         "y":[
          1008.8411097331599,
          1008.840935186813,
          1008.8412237498165,
          1008.8416838596369,
          1008.8411687412568,
          1008.8410537265139,
          1008.84168485995,
          1008.8409681893074,
          1008.8410407251158,
          1008.840973189716,
          1065.5995313157446,
          1008.8449721789,
          1008.841380779622,
          1008.840935186813,
          1008.8413867809189,
          1008.8411602523166,
          1008.840935186813,
          1008.8413977833267,
          1008.8415318157936,
          1008.8409395383029,
          1008.8412947623101,
          1008.8409641889864,
          1008.840935186813,
          1009.9188347128079,
          1008.8410667279666,
          1008.8409409605783,
          1008.8409987209718,
          1008.8411187343224,
          1008.840935186813,
          1008.8411617402375,
          1008.842246275241,
          1008.840935186813,
          1008.841017722776,
          1008.8411057326516,
          1008.840935186813,
          1008.84124175283,
          1008.8528148659018,
          1008.8409561883597,
          1008.8410907307916,
          1008.8411557393762,
          1008.8410097220021,
          1008.840935186813,
          1008.8409185085223,
          1008.8417283544037,
          1011.5457309674368,
          1008.8409395383029,
          1008.8416248417333,
          1008.8409441874585,
          1008.8409867198924,
          1008.8410337243856,
          1008.8414443022231,
          1008.8409395383029,
          1008.8409371869542,
          1131.247558859402,
          1008.8464671841432,
          1008.840935186813,
          1008.8409761899651,
          1008.8409185085223,
          1008.8412967626856,
          1008.8410597271776,
          1008.8685617717551,
          1008.8409396977781,
          1008.840935186813,
          1008.840935186813,
          1008.8409761899651,
          1008.8421292420393,
          1008.840923952073,
          1008.8409245669006,
          1008.8409130985009,
          1008.8409185085223,
          1008.9549303181735,
          1008.8409395383029,
          1008.8420841223407,
          1008.8409620278528,
          1008.8409395383029,
          1008.8435416466027,
          1008.8413022769855,
          1009.0502666183831,
          1008.8409987209718,
          1008.840935186813,
          1008.8414828032493,
          1008.8409521880542,
          1008.840923952073,
          1008.840922260224,
          1008.8409185085223,
          1008.8409620278528,
          1008.8426596048749,
          1008.8409395383029,
          1008.8417756966548,
          1029.1315237133003,
          1009.0502666183831,
          1008.8409409605783,
          1008.840935186813,
          1008.8449721789,
          1008.8409601886705,
          1008.8412075938098,
          1008.840935186813,
          1054.8635584736373,
          1008.8409395383029,
          1008.864582392921
         ],
         "type":"scatter",
         "xaxis":"x2",
         "yaxis":"y2"
        },
        {
         "marker":{
          "color":[
           0,
           1,
           2,
           3,
           4,
           5,
           6,
           7,
           8,
           9,
           10,
           11,
           12,
           13,
           14,
           15,
           16,
           17,
           18,
           19,
           20,
           21,
           22,
           23,
           24,
           25,
           26,
           27,
           28,
           29,
           30,
           31,
           32,
           33,
           34,
           35,
           36,
           37,
           38,
           39,
           40,
           41,
           42,
           43,
           44,
           45,
           46,
           47,
           48,
           49,
           50,
           51,
           52,
           53,
           54,
           55,
           56,
           57,
           58,
           59,
           60,
           61,
           62,
           63,
           64,
           65,
           66,
           67,
           68,
           69,
           70,
           71,
           72,
           73,
           74,
           75,
           76,
           77,
           78,
           79,
           80,
           81,
           82,
           83,
           84,
           85,
           86,
           87,
           88,
           89,
           90,
           91,
           92,
           93,
           94,
           95,
           96,
           97,
           98,
           99
          ],
          "colorbar":{
           "title":{
            "text":"Trial"
           },
           "x":1,
           "xpad":40
          },
          "colorscale":[
           [
            0,
            "rgb(247,251,255)"
           ],
           [
            0.125,
            "rgb(222,235,247)"
           ],
           [
            0.25,
            "rgb(198,219,239)"
           ],
           [
            0.375,
            "rgb(158,202,225)"
           ],
           [
            0.5,
            "rgb(107,174,214)"
           ],
           [
            0.625,
            "rgb(66,146,198)"
           ],
           [
            0.75,
            "rgb(33,113,181)"
           ],
           [
            0.875,
            "rgb(8,81,156)"
           ],
           [
            1,
            "rgb(8,48,107)"
           ]
          ],
          "line":{
           "color":"Grey",
           "width":0.5
          },
          "showscale":false
         },
         "mode":"markers",
         "showlegend":false,
         "x":[
          366,
          151,
          484,
          960,
          427,
          308,
          961,
          216,
          295,
          221,
          14,
          67,
          646,
          165,
          652,
          107,
          162,
          664,
          802,
          140,
          557,
          212,
          151,
          32,
          321,
          123,
          251,
          375,
          171,
          420,
          81,
          174,
          271,
          362,
          177,
          502,
          59,
          204,
          346,
          413,
          262,
          169,
          116,
          95,
          28,
          140,
          899,
          192,
          239,
          287,
          101,
          140,
          185,
          11,
          65,
          162,
          224,
          117,
          559,
          314,
          53,
          122,
          183,
          164,
          224,
          86,
          119,
          120,
          113,
          115,
          45,
          131,
          87,
          112,
          143,
          70,
          104,
          41,
          251,
          157,
          752,
          200,
          119,
          118,
          115,
          112,
          75,
          127,
          94,
          25,
          41,
          124,
          148,
          67,
          208,
          106,
          182,
          15,
          145,
          54
         ],
         "y":[
          1008.8411097331599,
          1008.840935186813,
          1008.8412237498165,
          1008.8416838596369,
          1008.8411687412568,
          1008.8410537265139,
          1008.84168485995,
          1008.8409681893074,
          1008.8410407251158,
          1008.840973189716,
          1065.5995313157446,
          1008.8449721789,
          1008.841380779622,
          1008.840935186813,
          1008.8413867809189,
          1008.8411602523166,
          1008.840935186813,
          1008.8413977833267,
          1008.8415318157936,
          1008.8409395383029,
          1008.8412947623101,
          1008.8409641889864,
          1008.840935186813,
          1009.9188347128079,
          1008.8410667279666,
          1008.8409409605783,
          1008.8409987209718,
          1008.8411187343224,
          1008.840935186813,
          1008.8411617402375,
          1008.842246275241,
          1008.840935186813,
          1008.841017722776,
          1008.8411057326516,
          1008.840935186813,
          1008.84124175283,
          1008.8528148659018,
          1008.8409561883597,
          1008.8410907307916,
          1008.8411557393762,
          1008.8410097220021,
          1008.840935186813,
          1008.8409185085223,
          1008.8417283544037,
          1011.5457309674368,
          1008.8409395383029,
          1008.8416248417333,
          1008.8409441874585,
          1008.8409867198924,
          1008.8410337243856,
          1008.8414443022231,
          1008.8409395383029,
          1008.8409371869542,
          1131.247558859402,
          1008.8464671841432,
          1008.840935186813,
          1008.8409761899651,
          1008.8409185085223,
          1008.8412967626856,
          1008.8410597271776,
          1008.8685617717551,
          1008.8409396977781,
          1008.840935186813,
          1008.840935186813,
          1008.8409761899651,
          1008.8421292420393,
          1008.840923952073,
          1008.8409245669006,
          1008.8409130985009,
          1008.8409185085223,
          1008.9549303181735,
          1008.8409395383029,
          1008.8420841223407,
          1008.8409620278528,
          1008.8409395383029,
          1008.8435416466027,
          1008.8413022769855,
          1009.0502666183831,
          1008.8409987209718,
          1008.840935186813,
          1008.8414828032493,
          1008.8409521880542,
          1008.840923952073,
          1008.840922260224,
          1008.8409185085223,
          1008.8409620278528,
          1008.8426596048749,
          1008.8409395383029,
          1008.8417756966548,
          1029.1315237133003,
          1009.0502666183831,
          1008.8409409605783,
          1008.840935186813,
          1008.8449721789,
          1008.8409601886705,
          1008.8412075938098,
          1008.840935186813,
          1054.8635584736373,
          1008.8409395383029,
          1008.864582392921
         ],
         "type":"scatter",
         "xaxis":"x3",
         "yaxis":"y3"
        }
       ],
       "layout":{
        "template":{
         "data":{
          "bar":[
           {
            "error_x":{
             "color":"#2a3f5f"
            },
            "error_y":{
             "color":"#2a3f5f"
            },
            "marker":{
             "line":{
              "color":"#E5ECF6",
              "width":0.5
             },
             "pattern":{
              "fillmode":"overlay",
              "size":10,
              "solidity":0.2
             }
            },
            "type":"bar"
           }
          ],
          "barpolar":[
           {
            "marker":{
             "line":{
              "color":"#E5ECF6",
              "width":0.5
             },
             "pattern":{
              "fillmode":"overlay",
              "size":10,
              "solidity":0.2
             }
            },
            "type":"barpolar"
           }
          ],
          "carpet":[
           {
            "aaxis":{
             "endlinecolor":"#2a3f5f",
             "gridcolor":"white",
             "linecolor":"white",
             "minorgridcolor":"white",
             "startlinecolor":"#2a3f5f"
            },
            "baxis":{
             "endlinecolor":"#2a3f5f",
             "gridcolor":"white",
             "linecolor":"white",
             "minorgridcolor":"white",
             "startlinecolor":"#2a3f5f"
            },
            "type":"carpet"
           }
          ],
          "choropleth":[
           {
            "colorbar":{
             "outlinewidth":0,
             "ticks":""
            },
            "type":"choropleth"
           }
          ],
          "contour":[
           {
            "colorbar":{
             "outlinewidth":0,
             "ticks":""
            },
            "colorscale":[
             [
              0,
              "#0d0887"
             ],
             [
              0.1111111111111111,
              "#46039f"
             ],
             [
              0.2222222222222222,
              "#7201a8"
             ],
             [
              0.3333333333333333,
              "#9c179e"
             ],
             [
              0.4444444444444444,
              "#bd3786"
             ],
             [
              0.5555555555555556,
              "#d8576b"
             ],
             [
              0.6666666666666666,
              "#ed7953"
             ],
             [
              0.7777777777777778,
              "#fb9f3a"
             ],
             [
              0.8888888888888888,
              "#fdca26"
             ],
             [
              1,
              "#f0f921"
             ]
            ],
            "type":"contour"
           }
          ],
          "contourcarpet":[
           {
            "colorbar":{
             "outlinewidth":0,
             "ticks":""
            },
            "type":"contourcarpet"
           }
          ],
          "heatmap":[
           {
            "colorbar":{
             "outlinewidth":0,
             "ticks":""
            },
            "colorscale":[
             [
              0,
              "#0d0887"
             ],
             [
              0.1111111111111111,
              "#46039f"
             ],
             [
              0.2222222222222222,
              "#7201a8"
             ],
             [
              0.3333333333333333,
              "#9c179e"
             ],
             [
              0.4444444444444444,
              "#bd3786"
             ],
             [
              0.5555555555555556,
              "#d8576b"
             ],
             [
              0.6666666666666666,
              "#ed7953"
             ],
             [
              0.7777777777777778,
              "#fb9f3a"
             ],
             [
              0.8888888888888888,
              "#fdca26"
             ],
             [
              1,
              "#f0f921"
             ]
            ],
            "type":"heatmap"
           }
          ],
          "heatmapgl":[
           {
            "colorbar":{
             "outlinewidth":0,
             "ticks":""
            },
            "colorscale":[
             [
              0,
              "#0d0887"
             ],
             [
              0.1111111111111111,
              "#46039f"
             ],
             [
              0.2222222222222222,
              "#7201a8"
             ],
             [
              0.3333333333333333,
              "#9c179e"
             ],
             [
              0.4444444444444444,
              "#bd3786"
             ],
             [
              0.5555555555555556,
              "#d8576b"
             ],
             [
              0.6666666666666666,
              "#ed7953"
             ],
             [
              0.7777777777777778,
              "#fb9f3a"
             ],
             [
              0.8888888888888888,
              "#fdca26"
             ],
             [
              1,
              "#f0f921"
             ]
            ],
            "type":"heatmapgl"
           }
          ],
          "histogram":[
           {
            "marker":{
             "pattern":{
              "fillmode":"overlay",
              "size":10,
              "solidity":0.2
             }
            },
            "type":"histogram"
           }
          ],
          "histogram2d":[
           {
            "colorbar":{
             "outlinewidth":0,
             "ticks":""
            },
            "colorscale":[
             [
              0,
              "#0d0887"
             ],
             [
              0.1111111111111111,
              "#46039f"
             ],
             [
              0.2222222222222222,
              "#7201a8"
             ],
             [
              0.3333333333333333,
              "#9c179e"
             ],
             [
              0.4444444444444444,
              "#bd3786"
             ],
             [
              0.5555555555555556,
              "#d8576b"
             ],
             [
              0.6666666666666666,
              "#ed7953"
             ],
             [
              0.7777777777777778,
              "#fb9f3a"
             ],
             [
              0.8888888888888888,
              "#fdca26"
             ],
             [
              1,
              "#f0f921"
             ]
            ],
            "type":"histogram2d"
           }
          ],
          "histogram2dcontour":[
           {
            "colorbar":{
             "outlinewidth":0,
             "ticks":""
            },
            "colorscale":[
             [
              0,
              "#0d0887"
             ],
             [
              0.1111111111111111,
              "#46039f"
             ],
             [
              0.2222222222222222,
              "#7201a8"
             ],
             [
              0.3333333333333333,
              "#9c179e"
             ],
             [
              0.4444444444444444,
              "#bd3786"
             ],
             [
              0.5555555555555556,
              "#d8576b"
             ],
             [
              0.6666666666666666,
              "#ed7953"
             ],
             [
              0.7777777777777778,
              "#fb9f3a"
             ],
             [
              0.8888888888888888,
              "#fdca26"
             ],
             [
              1,
              "#f0f921"
             ]
            ],
            "type":"histogram2dcontour"
           }
          ],
          "mesh3d":[
           {
            "colorbar":{
             "outlinewidth":0,
             "ticks":""
            },
            "type":"mesh3d"
           }
          ],
          "parcoords":[
           {
            "line":{
             "colorbar":{
              "outlinewidth":0,
              "ticks":""
             }
            },
            "type":"parcoords"
           }
          ],
          "pie":[
           {
            "automargin":true,
            "type":"pie"
           }
          ],
          "scatter":[
           {
            "marker":{
             "colorbar":{
              "outlinewidth":0,
              "ticks":""
             }
            },
            "type":"scatter"
           }
          ],
          "scatter3d":[
           {
            "line":{
             "colorbar":{
              "outlinewidth":0,
              "ticks":""
             }
            },
            "marker":{
             "colorbar":{
              "outlinewidth":0,
              "ticks":""
             }
            },
            "type":"scatter3d"
           }
          ],
          "scattercarpet":[
           {
            "marker":{
             "colorbar":{
              "outlinewidth":0,
              "ticks":""
             }
            },
            "type":"scattercarpet"
           }
          ],
          "scattergeo":[
           {
            "marker":{
             "colorbar":{
              "outlinewidth":0,
              "ticks":""
             }
            },
            "type":"scattergeo"
           }
          ],
          "scattergl":[
           {
            "marker":{
             "colorbar":{
              "outlinewidth":0,
              "ticks":""
             }
            },
            "type":"scattergl"
           }
          ],
          "scattermapbox":[
           {
            "marker":{
             "colorbar":{
              "outlinewidth":0,
              "ticks":""
             }
            },
            "type":"scattermapbox"
           }
          ],
          "scatterpolar":[
           {
            "marker":{
             "colorbar":{
              "outlinewidth":0,
              "ticks":""
             }
            },
            "type":"scatterpolar"
           }
          ],
          "scatterpolargl":[
           {
            "marker":{
             "colorbar":{
              "outlinewidth":0,
              "ticks":""
             }
            },
            "type":"scatterpolargl"
           }
          ],
          "scatterternary":[
           {
            "marker":{
             "colorbar":{
              "outlinewidth":0,
              "ticks":""
             }
            },
            "type":"scatterternary"
           }
          ],
          "surface":[
           {
            "colorbar":{
             "outlinewidth":0,
             "ticks":""
            },
            "colorscale":[
             [
              0,
              "#0d0887"
             ],
             [
              0.1111111111111111,
              "#46039f"
             ],
             [
              0.2222222222222222,
              "#7201a8"
             ],
             [
              0.3333333333333333,
              "#9c179e"
             ],
             [
              0.4444444444444444,
              "#bd3786"
             ],
             [
              0.5555555555555556,
              "#d8576b"
             ],
             [
              0.6666666666666666,
              "#ed7953"
             ],
             [
              0.7777777777777778,
              "#fb9f3a"
             ],
             [
              0.8888888888888888,
              "#fdca26"
             ],
             [
              1,
              "#f0f921"
             ]
            ],
            "type":"surface"
           }
          ],
          "table":[
           {
            "cells":{
             "fill":{
              "color":"#EBF0F8"
             },
             "line":{
              "color":"white"
             }
            },
            "header":{
             "fill":{
              "color":"#C8D4E3"
             },
             "line":{
              "color":"white"
             }
            },
            "type":"table"
           }
          ]
         },
         "layout":{
          "annotationdefaults":{
           "arrowcolor":"#2a3f5f",
           "arrowhead":0,
           "arrowwidth":1
          },
          "autotypenumbers":"strict",
          "coloraxis":{
           "colorbar":{
            "outlinewidth":0,
            "ticks":""
           }
          },
          "colorscale":{
           "diverging":[
            [
             0,
             "#8e0152"
            ],
            [
             0.1,
             "#c51b7d"
            ],
            [
             0.2,
             "#de77ae"
            ],
            [
             0.3,
             "#f1b6da"
            ],
            [
             0.4,
             "#fde0ef"
            ],
            [
             0.5,
             "#f7f7f7"
            ],
            [
             0.6,
             "#e6f5d0"
            ],
            [
             0.7,
             "#b8e186"
            ],
            [
             0.8,
             "#7fbc41"
            ],
            [
             0.9,
             "#4d9221"
            ],
            [
             1,
             "#276419"
            ]
           ],
           "sequential":[
            [
             0,
             "#0d0887"
            ],
            [
             0.1111111111111111,
             "#46039f"
            ],
            [
             0.2222222222222222,
             "#7201a8"
            ],
            [
             0.3333333333333333,
             "#9c179e"
            ],
            [
             0.4444444444444444,
             "#bd3786"
            ],
            [
             0.5555555555555556,
             "#d8576b"
            ],
            [
             0.6666666666666666,
             "#ed7953"
            ],
            [
             0.7777777777777778,
             "#fb9f3a"
            ],
            [
             0.8888888888888888,
             "#fdca26"
            ],
            [
             1,
             "#f0f921"
            ]
           ],
           "sequentialminus":[
            [
             0,
             "#0d0887"
            ],
            [
             0.1111111111111111,
             "#46039f"
            ],
            [
             0.2222222222222222,
             "#7201a8"
            ],
            [
             0.3333333333333333,
             "#9c179e"
            ],
            [
             0.4444444444444444,
             "#bd3786"
            ],
            [
             0.5555555555555556,
             "#d8576b"
            ],
            [
             0.6666666666666666,
             "#ed7953"
            ],
            [
             0.7777777777777778,
             "#fb9f3a"
            ],
            [
             0.8888888888888888,
             "#fdca26"
            ],
            [
             1,
             "#f0f921"
            ]
           ]
          },
          "colorway":[
           "#636efa",
           "#EF553B",
           "#00cc96",
           "#ab63fa",
           "#FFA15A",
           "#19d3f3",
           "#FF6692",
           "#B6E880",
           "#FF97FF",
           "#FECB52"
          ],
          "font":{
           "color":"#2a3f5f"
          },
          "geo":{
           "bgcolor":"white",
           "lakecolor":"white",
           "landcolor":"#E5ECF6",
           "showlakes":true,
           "showland":true,
           "subunitcolor":"white"
          },
          "hoverlabel":{
           "align":"left"
          },
          "hovermode":"closest",
          "mapbox":{
           "style":"light"
          },
          "paper_bgcolor":"white",
          "plot_bgcolor":"#E5ECF6",
          "polar":{
           "angularaxis":{
            "gridcolor":"white",
            "linecolor":"white",
            "ticks":""
           },
           "bgcolor":"#E5ECF6",
           "radialaxis":{
            "gridcolor":"white",
            "linecolor":"white",
            "ticks":""
           }
          },
          "scene":{
           "xaxis":{
            "backgroundcolor":"#E5ECF6",
            "gridcolor":"white",
            "gridwidth":2,
            "linecolor":"white",
            "showbackground":true,
            "ticks":"",
            "zerolinecolor":"white"
           },
           "yaxis":{
            "backgroundcolor":"#E5ECF6",
            "gridcolor":"white",
            "gridwidth":2,
            "linecolor":"white",
            "showbackground":true,
            "ticks":"",
            "zerolinecolor":"white"
           },
           "zaxis":{
            "backgroundcolor":"#E5ECF6",
            "gridcolor":"white",
            "gridwidth":2,
            "linecolor":"white",
            "showbackground":true,
            "ticks":"",
            "zerolinecolor":"white"
           }
          },
          "shapedefaults":{
           "line":{
            "color":"#2a3f5f"
           }
          },
          "ternary":{
           "aaxis":{
            "gridcolor":"white",
            "linecolor":"white",
            "ticks":""
           },
           "baxis":{
            "gridcolor":"white",
            "linecolor":"white",
            "ticks":""
           },
           "bgcolor":"#E5ECF6",
           "caxis":{
            "gridcolor":"white",
            "linecolor":"white",
            "ticks":""
           }
          },
          "title":{
           "x":0.05
          },
          "xaxis":{
           "automargin":true,
           "gridcolor":"white",
           "linecolor":"white",
           "ticks":"",
           "title":{
            "standoff":15
           },
           "zerolinecolor":"white",
           "zerolinewidth":2
          },
          "yaxis":{
           "automargin":true,
           "gridcolor":"white",
           "linecolor":"white",
           "ticks":"",
           "title":{
            "standoff":15
           },
           "zerolinecolor":"white",
           "zerolinewidth":2
          }
         }
        },
        "xaxis":{
         "anchor":"y",
         "domain":[
          0,
          0.2888888888888889
         ],
         "title":{
          "text":"lr"
         },
         "type":"log"
        },
        "yaxis":{
         "anchor":"x",
         "domain":[
          0,
          1
         ],
         "title":{
          "text":"Objective Value"
         }
        },
        "xaxis2":{
         "anchor":"y2",
         "domain":[
          0.35555555555555557,
          0.6444444444444445
         ],
         "title":{
          "text":"max_depth"
         }
        },
        "yaxis2":{
         "anchor":"x2",
         "domain":[
          0,
          1
         ],
         "matches":"y",
         "showticklabels":false
        },
        "xaxis3":{
         "anchor":"y3",
         "domain":[
          0.7111111111111111,
          1
         ],
         "title":{
          "text":"n_estimators"
         }
        },
        "yaxis3":{
         "anchor":"x3",
         "domain":[
          0,
          1
         ],
         "matches":"y",
         "showticklabels":false
        },
        "title":{
         "text":"Slice Plot"
        }
       },
       "config":{
        "plotlyServerURL":"https:\/\/plot.ly"
       }
      }
     },
     "metadata":{
      
     },
     "output_type":"display_data"
    }
   ],
   "metadata":{
    "datalore":{
     "node_id":"jB3qdtZJYRIejmKfHOgYUs",
     "type":"CODE",
     "hide_input_from_viewers":true,
     "hide_output_from_viewers":true
    }
   }
  },
  {
   "cell_type":"markdown",
   "source":[
    "### XGBRegressor subpart: \n",
    "*weekly importance prediction*"
   ],
   "attachments":{
    
   },
   "metadata":{
    "datalore":{
     "node_id":"NAPiblhnyYhYtzjusVa1Jr",
     "type":"MD",
     "hide_input_from_viewers":true,
     "hide_output_from_viewers":true,
     "report_properties":{
      
     }
    }
   }
  },
  {
   "cell_type":"code",
   "source":[
    "def shift_predictions(shift, data):\n",
    "    \n",
    "    y_to_train = data['2016':'2018'] # dataset to train\n",
    "    y_to_val = data['2019':] # last X months for test\n",
    "    \n",
    "    X_train_L = y_to_train[[\"Month\", \"Week\", \"Week_Month\", \"Holidays\", \"RM_10_L\" + str(shift), \"SD_10_L\" + str(shift)]]\n",
    "    y_train_L = y_to_train.Pay_pax.values\n",
    "    X_val_L = y_to_val[[\"Month\", \"Week\", \"Week_Month\", \"Holidays\", \"RM_10_L\" + str(shift), \"SD_10_L\" + str(shift)]]\n",
    "    y_val_L = y_to_val.Pay_pax.values\n",
    "\n",
    "    model_XGBR = XGBRegressor()\n",
    "    model_XGBR.fit(X_train_L, y_train_L)\n",
    "    pred = model_XGBR.predict(X_val_L)\n",
    "\n",
    "    return pred, y_val_L\n",
    "\n",
    "#shift_predictions(7, data)\n",
    "#shift_predictions(14, data)\n",
    "#shift_predictions(21, data)\n",
    "#shift_predictions(28, data)\n",
    "'''\n",
    "shift_df = pd.DataFrame(data = \n",
    "                        {\"7_shift\" : [np.sqrt(mean_squared_error(shift_predictions(7, data)[1][0:7], shift_predictions(7, data)[0][0:7])),\n",
    "                                    np.sqrt(mean_squared_error(shift_predictions(14, data)[1][0:7], shift_predictions(14, data)[0][0:7])),\n",
    "                                    np.sqrt(mean_squared_error(shift_predictions(21, data)[1][0:7], shift_predictions(21, data)[0][0:7])),\n",
    "                                    np.sqrt(mean_squared_error(shift_predictions(28, data)[1][0:7], shift_predictions(28, data)[0][0:7]))],\n",
    "                        \"14_shift\" : [0, np.sqrt(mean_squared_error(shift_predictions(14, data)[1][7:14], shift_predictions(14, data)[0][7:14])),\n",
    "                                    np.sqrt(mean_squared_error(shift_predictions(21, data)[1][7:14], shift_predictions(21, data)[0][7:14])),\n",
    "                                    np.sqrt(mean_squared_error(shift_predictions(28, data)[1][7:14], shift_predictions(28, data)[0][7:14]))],\n",
    "                        \"21_shift\" : [0,0, np.sqrt(mean_squared_error(shift_predictions(21, data)[1][14:21], shift_predictions(21, data)[0][14:21])),\n",
    "                                    np.sqrt(mean_squared_error(shift_predictions(28, data)[1][14:21], shift_predictions(28, data)[0][14:21]))],\n",
    "                        \"28_shift\" : [0,0,0, np.sqrt(mean_squared_error(shift_predictions(28, data)[1][21:28], shift_predictions(28, data)[0][21:28]))]})\n",
    "\n",
    "shift_df.index = [\"RMSE_7\", \"RMSE_L14\", \"RMSE_L21\", \"RMSE_L28\"]\n",
    "shift_df.index = [\"RMSE_7\", \"RMSE_L14\", \"RMSE_L21\", \"RMSE_L28\"]\n",
    "shift_plot = shift_df.plot.barh(y = [\"7_shift\", \"14_shift\", \"21_shift\", \"28_shift\"])\n",
    "shift_plot\n",
    "                                  \n",
    "'''\n",
    "def get_comb_xgb(shift_list, date_range):\n",
    "    xgb_data = data\n",
    "    pred_list = []\n",
    "    actual_list = []\n",
    "    for shift in shift_list:\n",
    "        print(shift)\n",
    "        xgb_data[\"RM_10_L\" + str(shift)] = data[\"RM_10\"].shift(shift)\n",
    "        xgb_data[\"SD_10_L\" + str(shift)] = data[\"SD_10\"].shift(shift)\n",
    "\n",
    "        xgb_X_to_train = xgb_data.loc[date_range[0] : date_range[1]][[\"Month\", \"Week\", \"Week_Month\", \"Holidays\", \"RM_10_L\" + str(shift), \"SD_10_L\" + str(shift)]]\n",
    "        xgb_X_to_val = xgb_data.loc[date_range[1] : date_range[2]][[\"Month\", \"Week\", \"Week_Month\", \"Holidays\", \"RM_10_L\" + str(shift), \"SD_10_L\" + str(shift)]]\n",
    "        xgb_y_to_train = xgb_data.loc[date_range[0] : date_range[1]][[\"Pay_pax\"]]\n",
    "        xgb_actual = xgb_data.loc[date_range[1] : date_range[2]][[\"Pay_pax\"]][int(shift - (max(shift_list)\/len(shift_list))):shift].values.reshape(1,int(max(shift_list)\/len(shift_list)))[0]\n",
    "\n",
    "        model_xgb = XGBRegressor()\n",
    "        model_xgb.fit(xgb_X_to_train, xgb_y_to_train)\n",
    "        pred = model_xgb.predict(xgb_X_to_val)[int(shift - (max(shift_list)\/len(shift_list))):shift]\n",
    "        pred_list.extend(pred)\n",
    "        actual_list.extend(xgb_actual)\n",
    "        \n",
    "        xgb_X_to_train.drop([(\"RM_10_L\" + str(shift)), (\"SD_10_L\" + str(shift))], axis = 1)\n",
    "        xgb_X_to_val.drop([(\"RM_10_L\" + str(shift)), (\"SD_10_L\" + str(shift))], axis = 1)\n",
    "\n",
    "    \n",
    "    rmse = np.sqrt(mean_squared_error(actual_list, pred_list))\n",
    "    mape = np.mean(abs(np.array(actual_list) - np.array(pred_list))\/np.array(actual_list))*100\n",
    "    \n",
    "    return pred_list, rmse, mape\n",
    "    \n",
    "    \n",
    "        \n",
    "            \n"
   ],
   "execution_count":16,
   "outputs":[
    
   ],
   "metadata":{
    "datalore":{
     "node_id":"uyU7pPMYd6ldORRIujMBsC",
     "type":"CODE",
     "hide_input_from_viewers":true,
     "hide_output_from_viewers":true,
     "report_properties":{
      
     }
    }
   }
  },
  {
   "cell_type":"code",
   "source":[
    "round(len(data['Pay_pax'][400:])\/7)"
   ],
   "execution_count":null,
   "outputs":[
    {
     "data":{
      "text\/plain":[
       "256"
      ]
     },
     "metadata":{
      
     },
     "output_type":"display_data"
    }
   ],
   "metadata":{
    "datalore":{
     "node_id":"qnL6Ey9hKkYJoE3LyWDQjX",
     "type":"CODE",
     "hide_input_from_viewers":false,
     "hide_output_from_viewers":false,
     "report_properties":{
      
     }
    }
   }
  },
  {
   "cell_type":"code",
   "source":[
    "## Cross-Validation"
   ],
   "execution_count":null,
   "outputs":[
    
   ],
   "metadata":{
    "datalore":{
     "node_id":"eXlWsLEZFNrXCJ0BQqiydh",
     "type":"CODE",
     "hide_input_from_viewers":true,
     "hide_output_from_viewers":true,
     "report_properties":{
      
     }
    }
   }
  },
  {
   "cell_type":"code",
   "source":[
    "def Cross_Val(training_period, forecast_period, shift_list, options='RW', fig_display=True):\n",
    "    '''\n",
    "    \n",
    "    Function to perform timeseries forecasting validation:\n",
    "    INPUT: Training_period = int - length of the training sample\n",
    "    INPUT: Forecasting_period = int - amount of days to predict\n",
    "    INPUT: options = str - takes either RW (Rolling Windows) or EX (Expending window)\n",
    "    OUTPUT: all_mse = list - all RMSE values\n",
    "    OUTPUT: all_predic = list - all out of samples predictions\n",
    "    \n",
    "    '''\n",
    "    all_mse = []\n",
    "    all_predic = []\n",
    "    all_mape = []\n",
    "    start_training_date = data['Pay_pax'].index[0]\n",
    "    end_training_date = data['Pay_pax'].index[training_period]\n",
    "    nb_iter = len(data['Pay_pax'][end_training_date:])\/\/int(max(shift_list)\/len(shift_list)) #numbers of periods to predict\n",
    "    print(nb_iter)\n",
    "    \n",
    "    # first iteration\n",
    "    date_range = [start_training_date, end_training_date, (end_training_date + datetime.timedelta(days=forecast_period))]\n",
    "    combined_pred, rmse, mape = get_comb_xgb(shift_list, date_range)\n",
    "    \n",
    "    all_mape.append(mape)\n",
    "    all_mse.append(rmse)\n",
    "    all_predic.append(combined_pred)\n",
    "\n",
    "    \n",
    "    if options=='RW':\n",
    "        for i in range(1, nb_iter - int(len(shift_list)) + 1):\n",
    "            print('iteration #'+str(i))\n",
    "            start_training_date += datetime.timedelta(days=int(max(shift_list)\/len(shift_list)))\n",
    "            end_training_date += datetime.timedelta(days=int(max(shift_list)\/len(shift_list)))\n",
    "            date_range = [start_training_date, end_training_date, (end_training_date + datetime.timedelta(days=forecast_period)) ]\n",
    "            combined_pred, rmse, mape = get_comb_xgb(shift_list, date_range)\n",
    "            \n",
    "            all_mape.append(mape)\n",
    "            all_mse.append(rmse)\n",
    "            all_predic.append(combined_pred)\n",
    "            \n",
    "    elif options == 'EX':\n",
    "        for i in range(1, nb_iter - int(len(shift_list)) + 1):\n",
    "            print('iteration #'+str(i))\n",
    "            end_training_date += datetime.timedelta(days=int(max(shift_list)\/len(shift_list)))\n",
    "            date_range = [start_training_date, end_training_date, (end_training_date + datetime.timedelta(days=forecast_period)) ]\n",
    "            combined_pred, rmse, mape = get_comb_xgb(shift_list, date_range)\n",
    "            \n",
    "            all_mape.append(mape)\n",
    "            all_mse.append(rmse)\n",
    "            all_predic.append(combined_pred)\n",
    "        \n",
    "    else: \n",
    "        print('Options type not recognized: Please choose either RW or EX')\n",
    "        return None\n",
    "        \n",
    "        \n",
    "    if fig_display==True: \n",
    "        \n",
    "        pd.DataFrame(all_mse).plot(figsize=(15,5))\n",
    "        \n",
    "        \n",
    "    return all_mse, all_predic, all_mape"
   ],
   "execution_count":78,
   "outputs":[
    
   ],
   "metadata":{
    "datalore":{
     "node_id":"909xu48N092nljPGuSrMRU",
     "type":"CODE",
     "hide_input_from_viewers":false,
     "hide_output_from_viewers":false,
     "report_properties":{
      
     }
    }
   }
  },
  {
   "cell_type":"code",
   "source":[
    "#all_mse1, all_predic1, all_mape1 = Cross_Val(training_period=400, forecast_period=28, shift_list = [7,14,21,28], options='RW', fig_display=False)\n",
    "#all_mse2, all_predic2, all_mape2 = Cross_Val(training_period=400, forecast_period=28, shift_list = [7,14,21,28], options='EX', fig_display=False)\n",
    "#all_mse3, all_predic3, all_mape3 = Cross_Val(training_period=400, forecast_period=28, shift_list = [28], options='RW', fig_display=False)\n",
    "all_mse4, all_predic4, all_mape4 = Cross_Val(training_period=400, forecast_period=28, shift_list = [28], options='EX', fig_display=False)"
   ],
   "execution_count":79,
   "outputs":[
    {
     "name":"stdout",
     "text":[
      "63\n",
      "28\n",
      "iteration #1\n",
      "28\n",
      "iteration #2\n",
      "28\n",
      "iteration #3\n",
      "28\n",
      "iteration #4\n",
      "28\n",
      "iteration #5\n",
      "28\n",
      "iteration #6\n",
      "28\n",
      "iteration #7\n",
      "28\n",
      "iteration #8\n",
      "28\n",
      "iteration #9\n",
      "28\n",
      "iteration #10\n",
      "28\n",
      "iteration #11\n",
      "28\n",
      "iteration #12\n",
      "28\n",
      "iteration #13\n",
      "28\n",
      "iteration #14\n",
      "28\n",
      "iteration #15\n",
      "28\n",
      "iteration #16\n",
      "28\n",
      "iteration #17\n",
      "28\n",
      "iteration #18\n",
      "28\n",
      "iteration #19\n",
      "28\n",
      "iteration #20\n",
      "28\n",
      "iteration #21\n",
      "28\n",
      "iteration #22\n",
      "28\n",
      "iteration #23\n",
      "28\n",
      "iteration #24\n",
      "28\n",
      "iteration #25\n",
      "28\n",
      "iteration #26\n",
      "28\n",
      "iteration #27\n",
      "28\n",
      "iteration #28\n",
      "28\n",
      "iteration #29\n",
      "28\n",
      "iteration #30\n",
      "28\n",
      "iteration #31\n",
      "28\n",
      "iteration #32\n",
      "28\n",
      "iteration #33\n",
      "28\n",
      "iteration #34\n",
      "28\n",
      "iteration #35\n",
      "28\n",
      "iteration #36\n",
      "28\n",
      "iteration #37\n",
      "28\n",
      "iteration #38\n",
      "28\n",
      "iteration #39\n",
      "28\n",
      "iteration #40\n",
      "28\n",
      "iteration #41\n",
      "28\n",
      "iteration #42\n",
      "28\n",
      "iteration #43\n",
      "28\n",
      "iteration #44\n",
      "28\n",
      "iteration #45\n",
      "28\n",
      "iteration #46\n",
      "28\n",
      "iteration #47\n",
      "28\n",
      "iteration #48\n",
      "28\n",
      "iteration #49\n",
      "28\n",
      "iteration #50\n",
      "28\n",
      "iteration #51\n",
      "28\n",
      "iteration #52\n",
      "28\n",
      "iteration #53\n",
      "28\n",
      "iteration #54\n",
      "28\n",
      "iteration #55\n",
      "28\n",
      "iteration #56\n",
      "28\n",
      "iteration #57\n",
      "28\n",
      "iteration #58\n",
      "28\n",
      "iteration #59\n",
      "28\n",
      "iteration #60\n",
      "28\n",
      "iteration #61\n",
      "28\n",
      "iteration #62\n",
      "28\n"
     ],
     "output_type":"stream"
    }
   ],
   "metadata":{
    "datalore":{
     "node_id":"PMRK9rYu8iuvHsow3XHknZ",
     "type":"CODE",
     "hide_input_from_viewers":false,
     "hide_output_from_viewers":false,
     "report_properties":{
      
     }
    }
   }
  },
  {
   "cell_type":"code",
   "source":[
    "plt.figure(figsize=(18, 5))\n",
    "plt.plot(pd.DataFrame([i for sub in all_predic4 for i in sub][:1600], data.index[400:2000]))\n",
    "plt.plot(data.Pay_pax[400:2000])\n",
    "\n"
   ],
   "execution_count":108,
   "outputs":[
    {
     "data":{
      "text\/plain":[
       "[<matplotlib.lines.Line2D at 0x7fa1ef99ef70>]"
      ]
     },
     "metadata":{
      
     },
     "output_type":"display_data"
    },
    {
     "data":{
      "image\/png":"[encoded data removed]"
     },
     "metadata":{
      "image\/png":{
       
      }
     },
     "output_type":"display_data"
    }
   ],
   "metadata":{
    "datalore":{
     "node_id":"CwjFQ4MRMBgbImmEh4DsfI",
     "type":"CODE",
     "hide_input_from_viewers":false,
     "hide_output_from_viewers":false,
     "report_properties":{
      
     }
    }
   }
  },
  {
   "cell_type":"code",
   "source":[
    "mean_absolute_percentage_error(data.Pay_pax[400:2000], [i for sub in all_predic4 for i in sub][:1600])"
   ],
   "execution_count":110,
   "outputs":[
    {
     "data":{
      "text\/plain":[
       "4.208417407671017"
      ]
     },
     "metadata":{
      
     },
     "output_type":"display_data"
    }
   ],
   "metadata":{
    "datalore":{
     "node_id":"FJ146GU21bxtPEZ8fjiZb2",
     "type":"CODE",
     "hide_input_from_viewers":true,
     "hide_output_from_viewers":true
    }
   }
  },
  {
   "cell_type":"code",
   "source":[
    "np.sqrt(mean_squared_error(data.Pay_pax[400:2000], [i for sub in all_predic4 for i in sub][:1600]))"
   ],
   "execution_count":112,
   "outputs":[
    {
     "data":{
      "text\/plain":[
       "952.2524504822954"
      ]
     },
     "metadata":{
      
     },
     "output_type":"display_data"
    }
   ],
   "metadata":{
    "datalore":{
     "node_id":"ZytDC9qMX2qVuto2JqGMy1",
     "type":"CODE",
     "hide_input_from_viewers":true,
     "hide_output_from_viewers":true
    }
   }
  },
  {
   "cell_type":"code",
   "source":[
    "data.Pay_pax[400:2000].plot(figsize=(18,5))"
   ],
   "execution_count":98,
   "outputs":[
    {
     "data":{
      "text\/plain":[
       "<AxesSubplot:xlabel='timestamp'>"
      ]
     },
     "metadata":{
      
     },
     "output_type":"display_data"
    },
    {
     "data":{
      "image\/png":"[encoded data removed]"
     },
     "metadata":{
      "image\/png":{
       
      }
     },
     "output_type":"display_data"
    }
   ],
   "metadata":{
    "datalore":{
     "node_id":"6PEBfdGlzJN2QmWBttDBWw",
     "type":"CODE",
     "hide_input_from_viewers":true,
     "hide_output_from_viewers":true
    }
   }
  },
  {
   "cell_type":"code",
   "source":[
    "(len([i for sub in all_predic4 for i in sub])\/28)"
   ],
   "execution_count":87,
   "outputs":[
    {
     "data":{
      "text\/plain":[
       "63.0"
      ]
     },
     "metadata":{
      
     },
     "output_type":"display_data"
    }
   ],
   "metadata":{
    "datalore":{
     "node_id":"TiUxbobVLZAkXmATi0A28x",
     "type":"CODE",
     "hide_input_from_viewers":true,
     "hide_output_from_viewers":true
    }
   }
  },
  {
   "cell_type":"code",
   "source":[
    "data.Pay_pax.index[400:]"
   ],
   "execution_count":91,
   "outputs":[
    {
     "data":{
      "text\/plain":[
       "DatetimeIndex(['2015-02-05', '2015-02-06', '2015-02-07', '2015-02-08',\n",
       "               '2015-02-09', '2015-02-10', '2015-02-11', '2015-02-12',\n",
       "               '2015-02-13', '2015-02-14',\n",
       "               ...\n",
       "               '2019-12-22', '2019-12-23', '2019-12-24', '2019-12-25',\n",
       "               '2019-12-26', '2019-12-27', '2019-12-28', '2019-12-29',\n",
       "               '2019-12-30', '2019-12-31'],\n",
       "              dtype='datetime64[ns]', name='timestamp', length=1791, freq=None)"
      ]
     },
     "metadata":{
      
     },
     "output_type":"display_data"
    }
   ],
   "metadata":{
    "datalore":{
     "node_id":"3LlNv1puquF4plxbEy669W",
     "type":"CODE",
     "hide_input_from_viewers":false,
     "hide_output_from_viewers":false,
     "report_properties":{
      
     }
    }
   }
  }
 ],
 "metadata":{
  "kernelspec":{
   "display_name":"Python",
   "language":"python",
   "name":"python"
  },
  "datalore":{
   "version":1,
   "computation_mode":"JUPYTER",
   "package_manager":"pip",
   "base_environment":"default",
   "packages":[
    
   ]
  }
 },
 "nbformat":4,
 "nbformat_minor":4
}